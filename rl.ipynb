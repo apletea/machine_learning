{
 "cells": [
  {
   "cell_type": "code",
   "execution_count": 1,
   "metadata": {},
   "outputs": [],
   "source": [
    "import run\n",
    "import math\n",
    "import random\n",
    "import numpy as np\n",
    "import matplotlib\n",
    "import matplotlib.pyplot as plt\n",
    "from collections import namedtuple\n",
    "from itertools import count\n",
    "from PIL import Image\n",
    "\n",
    "import torch\n",
    "import torch.nn as nn\n",
    "import torch.optim as optim\n",
    "import torch.nn.functional as F\n",
    "import torchvision.transforms as T\n",
    "\n",
    "\n",
    "import numpy as np\n",
    "\n",
    "from track import Track\n",
    "from environment import Car, Environment\n",
    "from sys import argv\n",
    "import os\n",
    "import sys"
   ]
  },
  {
   "cell_type": "code",
   "execution_count": 48,
   "metadata": {},
   "outputs": [],
   "source": [
    "Transition = namedtuple('Transition',\n",
    "                        ('state', 'action', 'next_state', 'reward'))\n",
    "\n",
    "\n",
    "# track = Track.read_from(argv[1])\n",
    "# env = Environment(track)\n",
    "tracks_path = ['../tracks/100.track','../tracks/101.track','../tracks/102.track']\n",
    "\n",
    "tracks = [Track.read_from(x) for x in tracks_path]\n",
    "envs = [Environment(x) for x in tracks]\n",
    "\n",
    "class ReplayMemory(object):\n",
    "\n",
    "    def __init__(self, capacity):\n",
    "        self.capacity = capacity\n",
    "        self.memory = []\n",
    "        self.position = 0\n",
    "\n",
    "    def push(self, *args):\n",
    "        \"\"\"Saves a transition.\"\"\"\n",
    "        if len(self.memory) < self.capacity:\n",
    "            self.memory.append(None)\n",
    "        self.memory[self.position] = Transition(*args)\n",
    "        self.position = (self.position + 1) % self.capacity\n",
    "\n",
    "    def sample(self, batch_size):\n",
    "        return random.sample(self.memory, batch_size)\n",
    "\n",
    "    def __len__(self):\n",
    "        return len(self.memory)\n",
    "\n",
    "class DQN(nn.Module):\n",
    "\n",
    "    def __init__(self):\n",
    "        super(DQN, self).__init__()\n",
    "        self.l1 = nn.Linear(4, 32)\n",
    "#         self.b1 = nn.BatchNorm1d(32)\n",
    "        self.l2 = nn.Linear(32,16)\n",
    "#         self.b2 = nn.BatchNorm1d(16)\n",
    "        self.l3 = nn.Linear(16,64)\n",
    "    \n",
    "        self.l4 = nn.Linear(64,4)\n",
    "\n",
    "    # Called with either one element to determine next action, or a batch\n",
    "    # during optimization. Returns tensor([[left0exp,right0exp]...]).\n",
    "    def forward(self, x):\n",
    "        x = F.relu((self.l1(x)))\n",
    "        x = F.relu((self.l2(x)))\n",
    "        x = F.relu((self.l3(x)))\n",
    "        x = F.relu(self.l4(x))\n",
    "        return x\n",
    "\n",
    "class DQN1(nn.Module):\n",
    "    def __init__(self):\n",
    "        super(DQN1, self).__init__()\n",
    "        self.l1 = nn.Linear(4, 4)\n",
    "\n",
    "\n",
    "    # Called with either one element to determine next action, or a batch\n",
    "    # during optimization. Returns tensor([[left0exp,right0exp]...]).\n",
    "    def forward(self, x):\n",
    "        x = F.relu((self.l1(x)))\n",
    "        return x\n",
    "    \n",
    "def get_input(i):\n",
    "    return envs[i].state()\n",
    "\n",
    "\n",
    "def send_action(i):\n",
    "    broken, done, progress = envs[i].step(action)\n",
    "    return (broken, done, progress)\n",
    "\n",
    "BATCH_SIZE = 128\n",
    "GAMMA = 0.999\n",
    "EPS_START = 0.95\n",
    "EPS_END = 0.2\n",
    "EPS_DECAY = 200\n",
    "TARGET_UPDATE = 100\n",
    "\n",
    "# Get screen size so that we can initialize layers correctly based on shape\n",
    "# returned from AI gym. Typical dimensions at this point are close to 3x40x90\n",
    "# which is the result of a clamped and down-scaled render buffer in get_screen()\n",
    "# init_screen = get_screen()\n",
    "# _, _, screen_height, screen_width = init_screen.shape\n",
    "\n",
    "# Get number of actions from gym action space\n",
    "n_actions = 4\n",
    "\n",
    "policy_net = DQN()\n",
    "policy_net.eval()\n",
    "target_net = DQN()\n",
    "target_net.load_state_dict(policy_net.state_dict())\n",
    "target_net.eval()\n",
    "\n",
    "optimizer = optim.RMSprop(policy_net.parameters())\n",
    "memory = ReplayMemory(10000)\n",
    "\n",
    "\n",
    "steps_done = 0\n",
    "\n",
    "\n",
    "def select_action(state):\n",
    "    global steps_done\n",
    "    sample = random.random()\n",
    "    eps_threshold = EPS_END + (EPS_START - EPS_END) * \\\n",
    "        math.exp(-1. * steps_done / EPS_DECAY)\n",
    "#    print(eps_threshold)\n",
    "    steps_done += 1\n",
    "    if sample > eps_threshold:\n",
    "        with torch.no_grad():\n",
    "            # t.max(1) will return largest column value of each row.\n",
    "            # second column on max result is index of where max element was\n",
    "            # found, so we pick action with the larger expected reward.\n",
    "            return policy_net(state).max(1)[1].view(1, 1)\n",
    "    else:\n",
    "        return torch.tensor([[random.randrange(n_actions)]],  dtype=torch.long)\n",
    "\n",
    "def val_select_option(state):\n",
    "    return policy_net(state).max(1)[1].view(1, 1)\n",
    "\n",
    "episode_durations = []\n",
    "def optimize_model():\n",
    "    if len(memory) < BATCH_SIZE:\n",
    "        return\n",
    "    transitions = memory.sample(BATCH_SIZE)\n",
    "    # Transpose the batch (see https://stackoverflow.com/a/19343/3343043 for\n",
    "    # detailed explanation). This converts batch-array of Transitions\n",
    "    # to Transition of batch-arrays.\n",
    "    batch = Transition(*zip(*transitions))\n",
    "\n",
    "    # Compute a mask of non-final states and concatenate the batch elements\n",
    "    # (a final state would've been the one after which simulation ended)\n",
    "    non_final_mask = torch.tensor(tuple(map(lambda s: s is not None,\n",
    "                                          batch.next_state)),  dtype=torch.uint8)\n",
    "    non_final_next_states = torch.cat([s for s in batch.next_state\n",
    "                                                if s is not None])\n",
    "    state_batch = torch.cat(batch.state)\n",
    "    action_batch = torch.cat(batch.action)\n",
    "    reward_batch = torch.cat(batch.reward)\n",
    "\n",
    "    # Compute Q(s_t, a) - the model computes Q(s_t), then we select the\n",
    "    # columns of actions taken. These are the actions which would've been taken\n",
    "    # for each batch state according to policy_net\n",
    "    state_action_values = policy_net(state_batch).gather(1, action_batch)\n",
    "\n",
    "    # Compute V(s_{t+1}) for all next states.\n",
    "    # Expected values of actions for non_final_next_states are computed based\n",
    "    # on the \"older\" target_net; selecting their best reward with max(1)[0].\n",
    "    # This is merged based on the mask, such that we'll have either the expected\n",
    "    # state value or 0 in case the state was final.\n",
    "    next_state_values = torch.zeros(BATCH_SIZE)\n",
    "    next_state_values[non_final_mask] = target_net(non_final_next_states).max(1)[0].detach()\n",
    "    # Compute the expected Q values\n",
    "    expected_state_action_values = (next_state_values * GAMMA) + reward_batch\n",
    "\n",
    "    # Compute Huber loss\n",
    "    loss = F.smooth_l1_loss(state_action_values, expected_state_action_values.unsqueeze(1))\n",
    "\n",
    "    # Optimize the model\n",
    "    optimizer.zero_grad()\n",
    "    loss.backward()\n",
    "#     sys.stdout.write(f'\\r Loss= {loss} \\n val_proc= {val_proc}')\n",
    "\n",
    "    for param in policy_net.parameters():\n",
    "        param.grad.data.clamp_(-1, 1)\n",
    "    optimizer.step()"
   ]
  },
  {
   "cell_type": "code",
   "execution_count": 44,
   "metadata": {
    "scrolled": true
   },
   "outputs": [
    {
     "name": "stderr",
     "output_type": "stream",
     "text": [
      "/usr/local/lib/python3.7/site-packages/ipykernel_launcher.py:1: UserWarning: To copy construct from a tensor, it is recommended to use sourceTensor.clone().detach() or sourceTensor.clone().detach().requires_grad_(True), rather than torch.tensor(sourceTensor).\n",
      "  \"\"\"Entry point for launching an IPython kernel.\n"
     ]
    },
    {
     "name": "stdout",
     "output_type": "stream",
     "text": [
      " val_proc= 3.051996151996152375"
     ]
    },
    {
     "ename": "TypeError",
     "evalue": "'NoneType' object is not subscriptable",
     "output_type": "error",
     "traceback": [
      "\u001b[0;31m---------------------------------------------------------------------------\u001b[0m",
      "\u001b[0;31mTypeError\u001b[0m                                 Traceback (most recent call last)",
      "\u001b[0;32m<ipython-input-44-bb161c6059c0>\u001b[0m in \u001b[0;36m<module>\u001b[0;34m\u001b[0m\n\u001b[1;32m     41\u001b[0m                 \u001b[0mval_proc\u001b[0m \u001b[0;34m=\u001b[0m \u001b[0;36m0\u001b[0m\u001b[0;34m\u001b[0m\u001b[0;34m\u001b[0m\u001b[0m\n\u001b[1;32m     42\u001b[0m                 \u001b[0;32mfor\u001b[0m \u001b[0mj\u001b[0m \u001b[0;32min\u001b[0m \u001b[0mrange\u001b[0m\u001b[0;34m(\u001b[0m\u001b[0;36m3\u001b[0m\u001b[0;34m)\u001b[0m\u001b[0;34m:\u001b[0m\u001b[0;34m\u001b[0m\u001b[0;34m\u001b[0m\u001b[0m\n\u001b[0;32m---> 43\u001b[0;31m                     \u001b[0menv\u001b[0m \u001b[0;34m=\u001b[0m \u001b[0mEnvironment\u001b[0m\u001b[0;34m(\u001b[0m\u001b[0mtracks\u001b[0m\u001b[0;34m[\u001b[0m\u001b[0mj\u001b[0m\u001b[0;34m]\u001b[0m\u001b[0;34m)\u001b[0m\u001b[0;34m\u001b[0m\u001b[0;34m\u001b[0m\u001b[0m\n\u001b[0m\u001b[1;32m     44\u001b[0m                     \u001b[0mvbroken\u001b[0m \u001b[0;34m=\u001b[0m \u001b[0;32mFalse\u001b[0m\u001b[0;34m\u001b[0m\u001b[0;34m\u001b[0m\u001b[0m\n\u001b[1;32m     45\u001b[0m                     \u001b[0mvdone\u001b[0m \u001b[0;34m=\u001b[0m \u001b[0;32mFalse\u001b[0m\u001b[0;34m\u001b[0m\u001b[0;34m\u001b[0m\u001b[0m\n",
      "\u001b[0;31mTypeError\u001b[0m: 'NoneType' object is not subscriptable"
     ]
    }
   ],
   "source": [
    "state_proc = lambda state: torch.tensor(torch.from_numpy(np.array(state)).unsqueeze(0), dtype=torch.float32)\n",
    "num_episodes = 500\n",
    "# last_val = 0\n",
    "# val_proc = 0\n",
    "ex = True\n",
    "while ex:\n",
    "    for track in tracks:\n",
    "        env = Environment(track)\n",
    "        for i_episode in range(num_episodes):\n",
    "            # Initialize the environment and state\n",
    "            current_screen = state_proc(env.state())\n",
    "            state = current_screen\n",
    "            for t in count():\n",
    "\n",
    "                # Select and perform an action\n",
    "                action = select_action(state)\n",
    "                broken, done, progress = env.step(action.item())\n",
    "                reward = torch.tensor([ 100*progress + done - 1000*broken], dtype=torch.float32)\n",
    "\n",
    "                # Observe new state\n",
    "                current_screen = state_proc(env.state())\n",
    "                if not done and not broken:\n",
    "                    next_state = current_screen\n",
    "                else:\n",
    "                    next_state = None\n",
    "\n",
    "                # Store the transition in memory\n",
    "                if (next_state is not None):\n",
    "                    memory.push(state, action, next_state, reward)\n",
    "\n",
    "                # Move to the next state\n",
    "                state = next_state\n",
    "\n",
    "                # Perform one step of the optimization (on the target network)\n",
    "                optimize_model()\n",
    "                if done or broken:\n",
    "                    episode_durations.append(t + 1)\n",
    "                    break\n",
    "            # Update the target network, copying all weights and biases in DQN\n",
    "            if i_episode % TARGET_UPDATE == 0:\n",
    "                val_proc = 0\n",
    "                for j in range(3):\n",
    "                    env = Environment(tracks[j])\n",
    "                    vbroken = False\n",
    "                    vdone = False\n",
    "                    vcurrent_screen = state_proc(env.state())\n",
    "                    vstate = vcurrent_screen \n",
    "                    while not vbroken and not vdone:\n",
    "                        vaction = val_select_option(vstate)\n",
    "                        vbroken, vdone, vprogress = env.step(vaction.item())\n",
    "                        vstate = state_proc(env.state())\n",
    "                    val_proc += vprogress\n",
    "#                     print(f'Track={j} Progress={vprogress}')\n",
    "                if (val_proc >= last_val):\n",
    "                    last_val = val_proc\n",
    "                    torch.save(policy_net.state_dict(),'weights.ckp')\n",
    "                target_net.load_state_dict(policy_net.state_dict())\n",
    "                sys.stdout.write(f'\\r val_proc= {val_proc}')\n",
    "                if val_proc >= 2.98:\n",
    "                    ex = False\n",
    "                    tracks = None\n",
    "                    break\n",
    "\n",
    "\n",
    "            "
   ]
  },
  {
   "cell_type": "code",
   "execution_count": 52,
   "metadata": {},
   "outputs": [
    {
     "name": "stderr",
     "output_type": "stream",
     "text": [
      "/usr/local/lib/python3.7/site-packages/ipykernel_launcher.py:1: UserWarning: To copy construct from a tensor, it is recommended to use sourceTensor.clone().detach() or sourceTensor.clone().detach().requires_grad_(True), rather than torch.tensor(sourceTensor).\n",
      "  \"\"\"Entry point for launching an IPython kernel.\n"
     ]
    },
    {
     "name": "stdout",
     "output_type": "stream",
     "text": [
      "1.0\n"
     ]
    }
   ],
   "source": [
    "env = Environment(tracks[1])\n",
    "broken = False\n",
    "done = False\n",
    "last_screen = state_proc(env.state())\n",
    "current_screen = state_proc(env.state())\n",
    "state = current_screen - last_screen\n",
    "while not broken and not done:\n",
    "    action = val_select_option(state)\n",
    "    broken, done, progress = env.step(action.item())\n",
    "    state = state_proc(env.state())\n",
    "print(progress)"
   ]
  },
  {
   "cell_type": "code",
   "execution_count": 33,
   "metadata": {},
   "outputs": [],
   "source": [
    "torch.save(policy_net.state_dict(),'weights.ckp')"
   ]
  },
  {
   "cell_type": "code",
   "execution_count": 49,
   "metadata": {},
   "outputs": [],
   "source": [
    "target_net.load_state_dict(torch.load('weights.ckp'))\n",
    "policy_net = target_net"
   ]
  },
  {
   "cell_type": "code",
   "execution_count": 46,
   "metadata": {},
   "outputs": [
    {
     "data": {
      "text/plain": [
       "3.0"
      ]
     },
     "execution_count": 46,
     "metadata": {},
     "output_type": "execute_result"
    }
   ],
   "source": [
    "last_val"
   ]
  },
  {
   "cell_type": "code",
   "execution_count": 56,
   "metadata": {
    "scrolled": true
   },
   "outputs": [
    {
     "data": {
      "text/plain": [
       "odict_keys(['l1.weight', 'l1.bias', 'l2.weight', 'l2.bias', 'l3.weight', 'l3.bias', 'l4.weight', 'l4.bias'])"
      ]
     },
     "execution_count": 56,
     "metadata": {},
     "output_type": "execute_result"
    }
   ],
   "source": [
    "target_net.state_dict().keys()"
   ]
  },
  {
   "cell_type": "code",
   "execution_count": 57,
   "metadata": {},
   "outputs": [
    {
     "data": {
      "text/plain": [
       "tensor([[ 6.6044e-02, -1.2655e-01,  8.3839e-02, -3.6144e-01],\n",
       "        [-2.2126e-01,  1.9400e-01, -3.3879e-01, -2.4960e-01],\n",
       "        [-2.1212e+00,  1.3124e+00,  3.0072e-01, -1.8002e-01],\n",
       "        [-3.4312e-01, -1.8527e-01,  1.9212e-03,  1.5076e-01],\n",
       "        [-9.0965e+00, -3.8424e+00,  1.8285e+00,  5.1015e+00],\n",
       "        [ 5.4418e-02, -2.8440e-01, -4.2868e-01, -1.1253e-01],\n",
       "        [-1.9040e-01, -3.9458e-01, -2.1769e-01,  2.3344e-01],\n",
       "        [ 1.4085e+00,  7.0795e-02, -1.9816e+00, -1.9705e+00],\n",
       "        [-1.3508e+00,  8.1569e-01, -4.0656e+00, -4.3442e+00],\n",
       "        [ 6.4903e-02, -2.9518e-01, -1.8339e-01,  5.2327e-02],\n",
       "        [ 1.1716e-02, -5.9255e-02, -2.6268e-01,  1.0085e+00],\n",
       "        [-2.7598e+00,  7.4275e-01,  9.6492e-01,  1.4070e+00],\n",
       "        [-4.0847e-02,  4.0975e-01, -2.5788e-01,  2.3429e+00],\n",
       "        [-2.4396e-01, -1.0527e-01,  3.8672e-01, -7.9331e-02],\n",
       "        [-2.0522e-01,  1.1483e+00,  1.6004e+00,  1.9836e-01],\n",
       "        [-8.2064e-01, -6.4770e+00,  9.6732e-01, -6.1755e-01],\n",
       "        [ 1.1569e-01, -3.6723e-01, -4.2259e-01, -3.6636e-01],\n",
       "        [-6.7029e-02,  3.6742e-01, -5.9371e-02, -3.7632e-01],\n",
       "        [ 9.0876e-03, -4.3256e-01, -1.1745e+00,  1.4715e+00],\n",
       "        [-4.7834e-01, -9.8357e-02, -4.3519e-01, -1.6569e-01],\n",
       "        [-1.5191e+00,  1.3942e-01,  3.7322e-01, -2.6922e-01],\n",
       "        [-5.6686e-01, -1.7269e-01, -2.9061e-03, -3.9251e-01],\n",
       "        [-4.6816e+00,  1.4266e+00, -6.6493e-01, -3.5835e+00],\n",
       "        [-4.6864e-01, -5.4291e-01,  4.8899e-02, -3.8984e-01],\n",
       "        [ 5.1053e-02, -6.3203e-01,  7.3636e-02, -2.3165e-01],\n",
       "        [ 2.0914e+00, -1.2764e+00,  1.9427e-02,  2.3857e+00],\n",
       "        [-1.1277e+00,  2.0157e+00, -3.8430e-01, -4.4020e+00],\n",
       "        [ 6.8257e-01, -4.8308e+00, -2.3509e+00, -5.6325e-01],\n",
       "        [ 3.5775e-01,  1.3983e-01,  6.0575e-01,  4.9504e-01],\n",
       "        [-4.9670e+00,  6.0227e-01,  1.0295e+00, -6.1191e+00],\n",
       "        [-1.3052e-01, -1.3927e-01, -3.2065e+00,  1.0153e-01],\n",
       "        [-2.7553e+00,  1.8625e+00, -5.3413e-01, -6.4080e-01]])"
      ]
     },
     "execution_count": 57,
     "metadata": {},
     "output_type": "execute_result"
    }
   ],
   "source": [
    "target_net.state_dict()['l1.weight']"
   ]
  },
  {
   "cell_type": "code",
   "execution_count": 59,
   "metadata": {},
   "outputs": [],
   "source": [
    "wights = {'l1.weights' : [[ 6.6044e-02, -1.2655e-01,  8.3839e-02, -3.6144e-01],\n",
    "        [-2.2126e-01,  1.9400e-01, -3.3879e-01, -2.4960e-01],\n",
    "        [-2.1212e+00,  1.3124e+00,  3.0072e-01, -1.8002e-01],\n",
    "        [-3.4312e-01, -1.8527e-01,  1.9212e-03,  1.5076e-01],\n",
    "        [-9.0965e+00, -3.8424e+00,  1.8285e+00,  5.1015e+00],\n",
    "        [ 5.4418e-02, -2.8440e-01, -4.2868e-01, -1.1253e-01],\n",
    "        [-1.9040e-01, -3.9458e-01, -2.1769e-01,  2.3344e-01],\n",
    "        [ 1.4085e+00,  7.0795e-02, -1.9816e+00, -1.9705e+00],\n",
    "        [-1.3508e+00,  8.1569e-01, -4.0656e+00, -4.3442e+00],\n",
    "        [ 6.4903e-02, -2.9518e-01, -1.8339e-01,  5.2327e-02],\n",
    "        [ 1.1716e-02, -5.9255e-02, -2.6268e-01,  1.0085e+00],\n",
    "        [-2.7598e+00,  7.4275e-01,  9.6492e-01,  1.4070e+00],\n",
    "        [-4.0847e-02,  4.0975e-01, -2.5788e-01,  2.3429e+00],\n",
    "        [-2.4396e-01, -1.0527e-01,  3.8672e-01, -7.9331e-02],\n",
    "        [-2.0522e-01,  1.1483e+00,  1.6004e+00,  1.9836e-01],\n",
    "        [-8.2064e-01, -6.4770e+00,  9.6732e-01, -6.1755e-01],\n",
    "        [ 1.1569e-01, -3.6723e-01, -4.2259e-01, -3.6636e-01],\n",
    "        [-6.7029e-02,  3.6742e-01, -5.9371e-02, -3.7632e-01],\n",
    "        [ 9.0876e-03, -4.3256e-01, -1.1745e+00,  1.4715e+00],\n",
    "        [-4.7834e-01, -9.8357e-02, -4.3519e-01, -1.6569e-01],\n",
    "        [-1.5191e+00,  1.3942e-01,  3.7322e-01, -2.6922e-01],\n",
    "        [-5.6686e-01, -1.7269e-01, -2.9061e-03, -3.9251e-01],\n",
    "        [-4.6816e+00,  1.4266e+00, -6.6493e-01, -3.5835e+00],\n",
    "        [-4.6864e-01, -5.4291e-01,  4.8899e-02, -3.8984e-01],\n",
    "        [ 5.1053e-02, -6.3203e-01,  7.3636e-02, -2.3165e-01],\n",
    "        [ 2.0914e+00, -1.2764e+00,  1.9427e-02,  2.3857e+00],\n",
    "        [-1.1277e+00,  2.0157e+00, -3.8430e-01, -4.4020e+00],\n",
    "        [ 6.8257e-01, -4.8308e+00, -2.3509e+00, -5.6325e-01],\n",
    "        [ 3.5775e-01,  1.3983e-01,  6.0575e-01,  4.9504e-01],\n",
    "        [-4.9670e+00,  6.0227e-01,  1.0295e+00, -6.1191e+00],\n",
    "        [-1.3052e-01, -1.3927e-01, -3.2065e+00,  1.0153e-01],\n",
    "        [-2.7553e+00,  1.8625e+00, -5.3413e-01, -6.4080e-01]]\n",
    "         }"
   ]
  },
  {
   "cell_type": "code",
   "execution_count": 61,
   "metadata": {},
   "outputs": [
    {
     "data": {
      "text/plain": [
       "array([-0.12655 ,  0.194   ,  1.3124  , -0.18527 , -3.8424  , -0.2844  ,\n",
       "       -0.39458 ,  0.070795,  0.81569 , -0.29518 , -0.059255,  0.74275 ,\n",
       "        0.40975 , -0.10527 ,  1.1483  , -6.477   , -0.36723 ,  0.36742 ,\n",
       "       -0.43256 , -0.098357,  0.13942 , -0.17269 ,  1.4266  , -0.54291 ,\n",
       "       -0.63203 , -1.2764  ,  2.0157  , -4.8308  ,  0.13983 ,  0.60227 ,\n",
       "       -0.13927 ,  1.8625  ])"
      ]
     },
     "execution_count": 61,
     "metadata": {},
     "output_type": "execute_result"
    }
   ],
   "source": [
    "np.dot(wights['l1.weights'], [0,1,0,0])"
   ]
  }
 ],
 "metadata": {
  "kernelspec": {
   "display_name": "Python 3",
   "language": "python",
   "name": "python3"
  },
  "language_info": {
   "codemirror_mode": {
    "name": "ipython",
    "version": 3
   },
   "file_extension": ".py",
   "mimetype": "text/x-python",
   "name": "python",
   "nbconvert_exporter": "python",
   "pygments_lexer": "ipython3",
   "version": "3.7.3"
  }
 },
 "nbformat": 4,
 "nbformat_minor": 2
}
