{
 "cells": [
  {
   "cell_type": "markdown",
   "metadata": {},
   "source": [
    "# Описание решения\n",
    "\n",
    "## TL;DR\n",
    "0. Был использован лик, для контроля того, что процесс простроения решения идет в верном направлении.\n",
    "1. Fine-tunning VGG16 (imagenet) для построения векторного представления постера (выбрал размерность 64).\n",
    "2. CatBoost поверх категориальных признаков (язык, страна, класс фильма) и векторного представления постера.\n",
    "3. Поиск оптимальных гипераметров CatBoost по 5-fold CV (предварительно, для каждого фолда была подготовлена своя VGG16).\n",
    "4. Построение предсказаний на тесте как среднее по 5 моделям, полученных по итогу CV.\n",
    "\n",
    "### 0. Лик\n",
    "Так как конкурс проводится по открытым данным, то, безусловно, воспользоватся этим фактом просто необходимо.<br>\n",
    "Мной было выполнено соотнесение тестовых данных с датасетом imdb5k. 90% строк были сматчены автоматически, остальные 10% потребовали ручной разметки. Задачу облегчило наличие постеров.\n",
    "\n",
    "Полученая информация использовалась __исключительно__ для следующих целей:\n",
    "\n",
    "* Оценка тестовой выборки.\n",
    "* Оценка корректности проведения выбора гиперпараметров по честной кроссвалидации, основанной на обучающей выборке.\n",
    "\n",
    "### 1. Описание решения\n",
    "Решение состоит из 2 частей:\n",
    "\n",
    "* Сверточная нейронная сеть для построения векторного представления постеров.\n",
    "* Бинарный классификатор для построения предсказаний.\n",
    "\n",
    "Так как бинарный классификатор требует выбора оптимального набора гиперпараметров, что удобно выполнять при помощи перекрестной проверки, то, соответственно, требуется обучить несколько нейросетевых моделей (по одной для каждого разбиения), для предотвращения \"лика\".\n",
    "\n",
    "##### 1.1 Нейронная сеть\n",
    "Были рассмотрены различные архитектуры нейросетевых моделей (InceptionV3, VGG16 и иные) для построения векторных представлений постеров. Лучше всех себя показала архитектура VGG16, ее скорость сходимости и финальные результаты оказались значительно лучше чем у иных рассмотренных.\n",
    "\n",
    "Так как требовалось обучить сразу множество моделей, то было решено отказаться от ручного мониторинга сети (определения момента переобучения и т.д.). В качестве критерия останова был выбран механизм ранней остановки. Такая техника может показаться грубой, но оптимальная работа нейронной сети не является главной целью. Ее задача заключается в построении адекватного векторного представления постера, что может быть успешно выполнено как в несколько недообученном состоянии, так и в переобученном. Тем не менее история обучения сохранялась для построения кривых обучения.\n",
    "\n",
    "##### 1.2 Бинарный классификатор\n",
    "В качестве классификатор был выбран алгоритм CatBoost по нескольким причинам причинам:\n",
    "\n",
    "* по заверению авторов он хорош;\n",
    "* алгоритм обладает малым набором гиперпараметров в существенной мере влияющих на качество работы;\n",
    "* реализация обладает удобным интерфейсом;\n",
    "* по факту, он действительно хорошо себя показал.\n",
    "\n",
    "Классификатор запускался на следующих признаках:\n",
    "\n",
    "* язык (кат.);\n",
    "* страна (кат.);\n",
    "* класс фильма (rating) (кат.);\n",
    "* векторное представление постера размерности 64.\n",
    "\n",
    "Перебор гиперпараметров был выполнен при помощи перекрестной проверки с 5-частным разбиением. Главным критерием было показание метрики ROC AUC (именно на тестовой части, состоавляющей 1/5 от обучающей выборки).\n",
    "\n",
    "##### 1.3 Построение финальных предсказаний\n",
    "Финальные предсказания строились по ансамблю моделей, полученных в ходе проведения перекрестной проверки, путем равноправного усреднения их результатов.\n",
    "\n",
    "### 2. Неуспешные и неиспробованные подходы\n",
    "1. Одной из идей было применение OCR для извлечения текстовой информации из постера фильма. Вариантами применений такой информации могли стать:\n",
    "    1. Добавление языковой модели в финальное решение (в виде классификатора поверх countvec или нейросетевой рекуррентной модели).\n",
    "    2. Поиск по полной базе IMBD по названиям.\n",
    "    \n",
    "  Идею реализовать не получилось. Были испробованы различные движки OCR (в том числе tesseract). Качество их работы было крайне плохим. Полагаю, основной причиной неудачи стало низкое разрешение изображений.\n",
    "  \n",
    "2. Детектирование лиц и последующая классификация их выражений.\n",
    "3. Детектирование всевозможных объектов присутствующих на постере при помощи, например, YoLo и добавление полученной информации в качестве признаков для бинарного классификатора.\n",
    "\n",
    "__За идеями 2 и 3 по моему мнению большой потенциал, но проверять их работоспособность на изображениях столь низкого разрешения показалось тратой времени.__"
   ]
  },
  {
   "cell_type": "code",
   "execution_count": 1,
   "metadata": {
    "ExecuteTime": {
     "end_time": "2017-09-28T20:22:06.072569Z",
     "start_time": "2017-09-28T20:22:05.489316Z"
    }
   },
   "outputs": [
    {
     "name": "stderr",
     "output_type": "stream",
     "text": [
      "/usr/local/lib/python3.5/dist-packages/sklearn/cross_validation.py:44: DeprecationWarning: This module was deprecated in version 0.18 in favor of the model_selection module into which all the refactored classes and functions are moved. Also note that the interface of the new CV iterators are different from that of this module. This module will be removed in 0.20.\n",
      "  \"This module will be removed in 0.20.\", DeprecationWarning)\n",
      "/usr/local/lib/python3.5/dist-packages/sklearn/grid_search.py:43: DeprecationWarning: This module was deprecated in version 0.18 in favor of the model_selection module into which all the refactored classes and functions are moved. This module will be removed in 0.20.\n",
      "  DeprecationWarning)\n"
     ]
    }
   ],
   "source": [
    "import os\n",
    "import shutil\n",
    "import time\n",
    "\n",
    "import numpy as np\n",
    "import pandas as pd\n",
    "from PIL import Image\n",
    "from catboost import CatBoostClassifier\n",
    "from keras.applications import VGG16\n",
    "from keras.applications.inception_v3 import InceptionV3\n",
    "from keras.callbacks import ModelCheckpoint, EarlyStopping\n",
    "from keras.layers import Dense, GlobalAveragePooling2D, Dropout, Activation\n",
    "from keras.models import Model, load_model\n",
    "from keras.optimizers import SGD\n",
    "from keras.preprocessing.image import ImageDataGenerator\n",
    "from keras_tqdm import TQDMNotebookCallback\n",
    "from metrics import f1, precision, recall\n",
    "from sklearn.metrics import roc_auc_score\n",
    "from sklearn.model_selection import ParameterGrid, StratifiedKFold\n",
    "from tqdm import tqdm_notebook"
   ]
  },
  {
   "cell_type": "code",
   "execution_count": 82,
   "metadata": {
    "ExecuteTime": {
     "end_time": "2017-09-30T08:26:07.932137Z",
     "start_time": "2017-09-30T08:26:07.905891Z"
    },
    "collapsed": true
   },
   "outputs": [],
   "source": [
    "cat_colomns = ['Language', 'Country', 'Rating']\n",
    "\n",
    "df = pd.read_csv('../data/imdb_wg/train.csv')\n",
    "leak_df = pd.read_csv('../data/imdb_wg/test_w_labels.csv')\n",
    "\n",
    "test_ids = leak_df['Id'].values\n",
    "\n",
    "poster_ids = df['Poster'].values\n",
    "leak_poster_ids = leak_df['Poster']\n",
    "\n",
    "df.drop(['Id', 'Poster'], axis=1, inplace=True)\n",
    "leak_df.drop(['Id', 'Poster'], axis=1, inplace=True)\n",
    "\n",
    "df.fillna(-999, inplace=True)\n",
    "leak_df.fillna(-999, inplace=True)\n",
    "\n",
    "X, y = df.drop('Target', axis=1).as_matrix(), df['Target'].values\n",
    "X_leak, y_leak = leak_df.drop('Target', axis=1).as_matrix(), leak_df['Target'].values"
   ]
  },
  {
   "cell_type": "markdown",
   "metadata": {},
   "source": [
    "## Подготовим разбиение train данных на 5 фолдов"
   ]
  },
  {
   "cell_type": "code",
   "execution_count": 3,
   "metadata": {
    "ExecuteTime": {
     "end_time": "2017-09-28T20:22:10.152284Z",
     "start_time": "2017-09-28T20:22:10.147121Z"
    },
    "collapsed": true
   },
   "outputs": [],
   "source": [
    "fold_idxs = list(StratifiedKFold(y, n_folds=5, shuffle=True))"
   ]
  },
  {
   "cell_type": "code",
   "execution_count": 4,
   "metadata": {
    "ExecuteTime": {
     "end_time": "2017-09-28T20:22:10.415536Z",
     "start_time": "2017-09-28T20:22:10.406787Z"
    },
    "collapsed": true
   },
   "outputs": [],
   "source": [
    "import pickle\n",
    "\n",
    "# with open('spilts.p', 'wb') as f:\n",
    "#     pickle.dump(fold_idxs, f)\n",
    "\n",
    "with open('spilts.p', 'rb') as f:\n",
    "    fold_idxs = pickle.load(f)"
   ]
  },
  {
   "cell_type": "code",
   "execution_count": 6,
   "metadata": {
    "ExecuteTime": {
     "end_time": "2017-09-28T18:41:30.681056Z",
     "start_time": "2017-09-28T18:41:30.676692Z"
    },
    "collapsed": true
   },
   "outputs": [],
   "source": [
    "def load_posters(ids):\n",
    "    posters = []\n",
    "\n",
    "    for poster_id in tqdm_notebook(ids):\n",
    "        poster_path = os.path.join('../data/imdb_wg/posters/', poster_id)\n",
    "        posters.append(np.array(Image.open(poster_path).convert('RGB')).astype(np.float32))\n",
    "\n",
    "    return np.array(posters)"
   ]
  },
  {
   "cell_type": "code",
   "execution_count": 7,
   "metadata": {
    "ExecuteTime": {
     "end_time": "2017-09-28T18:41:34.604156Z",
     "start_time": "2017-09-28T18:41:30.681961Z"
    }
   },
   "outputs": [
    {
     "data": {
      "application/vnd.jupyter.widget-view+json": {
       "model_id": "f9ea7a20b5d545a49d80d50cdf5cf6d0"
      }
     },
     "metadata": {},
     "output_type": "display_data"
    },
    {
     "name": "stdout",
     "output_type": "stream",
     "text": [
      "\n"
     ]
    },
    {
     "data": {
      "application/vnd.jupyter.widget-view+json": {
       "model_id": "ca4bb6b7d1fb484d9fe0b41b05247835"
      }
     },
     "metadata": {},
     "output_type": "display_data"
    },
    {
     "name": "stdout",
     "output_type": "stream",
     "text": [
      "\n"
     ]
    }
   ],
   "source": [
    "posters = load_posters(poster_ids)\n",
    "leak_posters = load_posters(leak_poster_ids)"
   ]
  },
  {
   "cell_type": "code",
   "execution_count": 8,
   "metadata": {
    "ExecuteTime": {
     "end_time": "2017-09-28T18:41:34.704144Z",
     "start_time": "2017-09-28T18:41:34.605390Z"
    },
    "collapsed": true
   },
   "outputs": [],
   "source": [
    "def calc_mean_std(X):\n",
    "    mean, std = np.zeros((3,)), np.zeros((3,))\n",
    "    \n",
    "    for x in X:\n",
    "        x = x / 255.\n",
    "        x = x.reshape(-1, 3)\n",
    "        mean += x.mean(axis=0)\n",
    "        std += x.std(axis=0)\n",
    "        \n",
    "    return mean / len(X), std / len(X)\n",
    "\n",
    "def preprocess_poster(x, train_mean, train_std):\n",
    "    x = x / 255.\n",
    "    x -= train_mean\n",
    "    x /= train_std\n",
    "    return x\n",
    "\n",
    "def get_inceptionV3_model():\n",
    "    base_model = InceptionV3(weights='imagenet', include_top=False, input_shape=(268, 182, 3))\n",
    "    \n",
    "    x = base_model.output\n",
    "    x = GlobalAveragePooling2D()(x)\n",
    "\n",
    "    x = Dense(512, activation='relu')(x)\n",
    "\n",
    "    x = Dropout(0.5)(x)\n",
    "\n",
    "    x = Dense(64)(x)\n",
    "    x = Activation('relu')(x)\n",
    "    x = Dropout(0.5)(x)\n",
    "\n",
    "    predictions = Dense(1, activation='sigmoid')(x)\n",
    "\n",
    "    return Model(inputs=base_model.input, outputs=predictions)\n",
    "\n",
    "def get_vgg16_model():\n",
    "    base_model = VGG16(include_top=False, input_shape=(268, 182, 3))\n",
    "\n",
    "    x = base_model.output\n",
    "    x = GlobalAveragePooling2D()(x)\n",
    "\n",
    "    x = Dense(64)(x)\n",
    "    x = Activation('relu')(x)\n",
    "    x = Dropout(0.5)(x)\n",
    "    predictions = Dense(1, activation='sigmoid')(x)\n",
    "\n",
    "    model = Model(inputs=base_model.input, outputs=predictions)\n",
    "\n",
    "    return Model(inputs=base_model.input, outputs=predictions)\n",
    "\n",
    "def pop(self):\n",
    "    '''Removes a layer instance on top of the layer stack.'''\n",
    "    if not self.outputs:\n",
    "        raise Exception('Sequential model cannot be popped: model is empty.')\n",
    "    else:\n",
    "        self.layers.pop()\n",
    "        if not self.layers:\n",
    "            self.outputs = []\n",
    "            self.inbound_nodes = []\n",
    "            self.outbound_nodes = []\n",
    "        else:\n",
    "            self.layers[-1].outbound_nodes = []\n",
    "            self.outputs = [self.layers[-1].output]\n",
    "        self.built = False\n",
    "        \n",
    "def pop_last_3_layers(model):\n",
    "    pop(model)\n",
    "    pop(model)\n",
    "    pop(model)\n",
    "    return model"
   ]
  },
  {
   "cell_type": "code",
   "execution_count": 9,
   "metadata": {
    "ExecuteTime": {
     "end_time": "2017-09-28T18:41:34.868843Z",
     "start_time": "2017-09-28T18:41:34.705945Z"
    }
   },
   "outputs": [
    {
     "name": "stdout",
     "output_type": "stream",
     "text": [
      "mkdir: cannot create directory ‘/media/e/wg_v2/’: File exists\r\n"
     ]
    }
   ],
   "source": [
    "batch_size = 32\n",
    "checkpoints_prefix = '/media/e/wg_v2/'\n",
    "\n",
    "!mkdir '/media/e/wg_v2/'"
   ]
  },
  {
   "cell_type": "markdown",
   "metadata": {},
   "source": [
    "## Учим по сетке для каждого фолда (EarlyStop(patience=10) по val_loss)"
   ]
  },
  {
   "cell_type": "code",
   "execution_count": 10,
   "metadata": {
    "ExecuteTime": {
     "end_time": "2017-09-28T19:52:39.876789Z",
     "start_time": "2017-09-28T18:41:50.870193Z"
    }
   },
   "outputs": [
    {
     "data": {
      "application/vnd.jupyter.widget-view+json": {
       "model_id": "c643ec25fc194d24b44af34c81853a0e"
      }
     },
     "metadata": {},
     "output_type": "display_data"
    },
    {
     "data": {
      "application/vnd.jupyter.widget-view+json": {
       "model_id": "7c3883e0675a493691c5247582aff3b5"
      }
     },
     "metadata": {},
     "output_type": "display_data"
    },
    {
     "data": {
      "application/vnd.jupyter.widget-view+json": {
       "model_id": "f7a1d80fc40f44b5bdd6069a90e1797e"
      }
     },
     "metadata": {},
     "output_type": "display_data"
    },
    {
     "data": {
      "application/vnd.jupyter.widget-view+json": {
       "model_id": "738190b6ff904ae48777bc2d3a107600"
      }
     },
     "metadata": {},
     "output_type": "display_data"
    },
    {
     "data": {
      "application/vnd.jupyter.widget-view+json": {
       "model_id": "80693cc355a447c3aeac617ce7243936"
      }
     },
     "metadata": {},
     "output_type": "display_data"
    },
    {
     "data": {
      "application/vnd.jupyter.widget-view+json": {
       "model_id": "248f6d75cb29452b9a39e8f71d1567a3"
      }
     },
     "metadata": {},
     "output_type": "display_data"
    },
    {
     "data": {
      "application/vnd.jupyter.widget-view+json": {
       "model_id": "da5db210edd94a78a1eb495e238c8837"
      }
     },
     "metadata": {},
     "output_type": "display_data"
    },
    {
     "data": {
      "application/vnd.jupyter.widget-view+json": {
       "model_id": "96a1888061894414a205ae09236b5574"
      }
     },
     "metadata": {},
     "output_type": "display_data"
    },
    {
     "data": {
      "application/vnd.jupyter.widget-view+json": {
       "model_id": "5a343ace66814e138d08f06e0bf705f4"
      }
     },
     "metadata": {},
     "output_type": "display_data"
    },
    {
     "data": {
      "application/vnd.jupyter.widget-view+json": {
       "model_id": "813377232dc94ddd86b9fce414a6b088"
      }
     },
     "metadata": {},
     "output_type": "display_data"
    },
    {
     "data": {
      "application/vnd.jupyter.widget-view+json": {
       "model_id": "20deaca5e1334bafb7344f9f0ce18d01"
      }
     },
     "metadata": {},
     "output_type": "display_data"
    },
    {
     "data": {
      "application/vnd.jupyter.widget-view+json": {
       "model_id": "2e7dd70e09a24b5a852c9de532a3d4b8"
      }
     },
     "metadata": {},
     "output_type": "display_data"
    },
    {
     "data": {
      "application/vnd.jupyter.widget-view+json": {
       "model_id": "c53180851de1405d89ee858a116c797a"
      }
     },
     "metadata": {},
     "output_type": "display_data"
    },
    {
     "data": {
      "application/vnd.jupyter.widget-view+json": {
       "model_id": "6decb9cbddab4315ba25e338a5e3003b"
      }
     },
     "metadata": {},
     "output_type": "display_data"
    },
    {
     "data": {
      "application/vnd.jupyter.widget-view+json": {
       "model_id": "a17afe61a23e48699e6c5b01fb965e2a"
      }
     },
     "metadata": {},
     "output_type": "display_data"
    },
    {
     "data": {
      "application/vnd.jupyter.widget-view+json": {
       "model_id": "d882ed152353424cab6a1d64980a9892"
      }
     },
     "metadata": {},
     "output_type": "display_data"
    },
    {
     "data": {
      "application/vnd.jupyter.widget-view+json": {
       "model_id": "f4e77facbf59473cbb5e5962b8dfd364"
      }
     },
     "metadata": {},
     "output_type": "display_data"
    },
    {
     "data": {
      "application/vnd.jupyter.widget-view+json": {
       "model_id": "5c8452d620f54677aa2a50bdb4e62b82"
      }
     },
     "metadata": {},
     "output_type": "display_data"
    },
    {
     "data": {
      "application/vnd.jupyter.widget-view+json": {
       "model_id": "157ea668b80f48f39d82426d15cc09fe"
      }
     },
     "metadata": {},
     "output_type": "display_data"
    },
    {
     "data": {
      "application/vnd.jupyter.widget-view+json": {
       "model_id": "da4b01decba44cc182cd00f48e37d2db"
      }
     },
     "metadata": {},
     "output_type": "display_data"
    },
    {
     "data": {
      "application/vnd.jupyter.widget-view+json": {
       "model_id": "25592de8e94647aba7d71b236f2c79c9"
      }
     },
     "metadata": {},
     "output_type": "display_data"
    },
    {
     "data": {
      "application/vnd.jupyter.widget-view+json": {
       "model_id": "262a52aaf9434dca9940f64e99471da7"
      }
     },
     "metadata": {},
     "output_type": "display_data"
    },
    {
     "data": {
      "application/vnd.jupyter.widget-view+json": {
       "model_id": "30d92161edd3469d83aff6273451bfa7"
      }
     },
     "metadata": {},
     "output_type": "display_data"
    },
    {
     "data": {
      "application/vnd.jupyter.widget-view+json": {
       "model_id": "d7595ddbb57b42c79cd42620b77d66a0"
      }
     },
     "metadata": {},
     "output_type": "display_data"
    },
    {
     "data": {
      "application/vnd.jupyter.widget-view+json": {
       "model_id": "deabc971812d4c5a8b546d34bb4f943a"
      }
     },
     "metadata": {},
     "output_type": "display_data"
    },
    {
     "data": {
      "application/vnd.jupyter.widget-view+json": {
       "model_id": "c26845c21661422eae3c87afd55ff3e1"
      }
     },
     "metadata": {},
     "output_type": "display_data"
    },
    {
     "data": {
      "application/vnd.jupyter.widget-view+json": {
       "model_id": "834e763d447f434cbea5b99292f5649d"
      }
     },
     "metadata": {},
     "output_type": "display_data"
    },
    {
     "data": {
      "application/vnd.jupyter.widget-view+json": {
       "model_id": "31ad874c78e44e9f95076f7dd97ec0bf"
      }
     },
     "metadata": {},
     "output_type": "display_data"
    },
    {
     "data": {
      "application/vnd.jupyter.widget-view+json": {
       "model_id": "96adf64fc25f4b12b042731699534ab9"
      }
     },
     "metadata": {},
     "output_type": "display_data"
    },
    {
     "data": {
      "application/vnd.jupyter.widget-view+json": {
       "model_id": "8ac76014c4674a8b9c937008daa16387"
      }
     },
     "metadata": {},
     "output_type": "display_data"
    },
    {
     "data": {
      "application/vnd.jupyter.widget-view+json": {
       "model_id": "74d516de0c6341b595cba9ba505a28fc"
      }
     },
     "metadata": {},
     "output_type": "display_data"
    },
    {
     "data": {
      "application/vnd.jupyter.widget-view+json": {
       "model_id": "6318c0a3c7c74756a009ff393823b0c8"
      }
     },
     "metadata": {},
     "output_type": "display_data"
    },
    {
     "data": {
      "application/vnd.jupyter.widget-view+json": {
       "model_id": "32b59a503f784e9ba37ba2e72476842d"
      }
     },
     "metadata": {},
     "output_type": "display_data"
    },
    {
     "data": {
      "application/vnd.jupyter.widget-view+json": {
       "model_id": "e435704e1b1949418122ffc847fe0281"
      }
     },
     "metadata": {},
     "output_type": "display_data"
    },
    {
     "data": {
      "application/vnd.jupyter.widget-view+json": {
       "model_id": "08ab6b08d0754ae8b9b02aba654fca95"
      }
     },
     "metadata": {},
     "output_type": "display_data"
    },
    {
     "data": {
      "application/vnd.jupyter.widget-view+json": {
       "model_id": "a2ea9fc4caad483e857a346145dc8eef"
      }
     },
     "metadata": {},
     "output_type": "display_data"
    },
    {
     "data": {
      "application/vnd.jupyter.widget-view+json": {
       "model_id": "b2148555bf374a8f9afafea7cf46e2f4"
      }
     },
     "metadata": {},
     "output_type": "display_data"
    },
    {
     "data": {
      "application/vnd.jupyter.widget-view+json": {
       "model_id": "a0fb5fa553764338ad0412ea6581b474"
      }
     },
     "metadata": {},
     "output_type": "display_data"
    },
    {
     "data": {
      "application/vnd.jupyter.widget-view+json": {
       "model_id": "9d8e947c24fe451ba85abfd001453968"
      }
     },
     "metadata": {},
     "output_type": "display_data"
    },
    {
     "data": {
      "application/vnd.jupyter.widget-view+json": {
       "model_id": "4df51c5118154bd08d96827feca4112a"
      }
     },
     "metadata": {},
     "output_type": "display_data"
    },
    {
     "data": {
      "application/vnd.jupyter.widget-view+json": {
       "model_id": "dfb0cdd166bb4d2da1bd412c5a296c0a"
      }
     },
     "metadata": {},
     "output_type": "display_data"
    },
    {
     "data": {
      "application/vnd.jupyter.widget-view+json": {
       "model_id": "19693066318f447ea3aeeda6c6302237"
      }
     },
     "metadata": {},
     "output_type": "display_data"
    },
    {
     "data": {
      "application/vnd.jupyter.widget-view+json": {
       "model_id": "4f17ba82beba4bb9a38e6d067f50ebce"
      }
     },
     "metadata": {},
     "output_type": "display_data"
    },
    {
     "data": {
      "application/vnd.jupyter.widget-view+json": {
       "model_id": "d4815dfd93314712af2d104f4139a265"
      }
     },
     "metadata": {},
     "output_type": "display_data"
    },
    {
     "data": {
      "application/vnd.jupyter.widget-view+json": {
       "model_id": "90d39f74466d44649384865e175f62ad"
      }
     },
     "metadata": {},
     "output_type": "display_data"
    },
    {
     "data": {
      "application/vnd.jupyter.widget-view+json": {
       "model_id": "eeda7545feab41309b709d3606fb1aac"
      }
     },
     "metadata": {},
     "output_type": "display_data"
    },
    {
     "data": {
      "application/vnd.jupyter.widget-view+json": {
       "model_id": "2da2ce51bbe045d8a1a06398ba11fc87"
      }
     },
     "metadata": {},
     "output_type": "display_data"
    },
    {
     "data": {
      "application/vnd.jupyter.widget-view+json": {
       "model_id": "96bfcacce1434bca9dfca71b42383d44"
      }
     },
     "metadata": {},
     "output_type": "display_data"
    },
    {
     "data": {
      "application/vnd.jupyter.widget-view+json": {
       "model_id": "ab69db0b79a1450fa5dd354159104fa3"
      }
     },
     "metadata": {},
     "output_type": "display_data"
    },
    {
     "data": {
      "application/vnd.jupyter.widget-view+json": {
       "model_id": "9b865cafa0a94926b1511608336ee951"
      }
     },
     "metadata": {},
     "output_type": "display_data"
    },
    {
     "data": {
      "application/vnd.jupyter.widget-view+json": {
       "model_id": "43a0d564685b476b977e1539a5a14ff5"
      }
     },
     "metadata": {},
     "output_type": "display_data"
    },
    {
     "data": {
      "application/vnd.jupyter.widget-view+json": {
       "model_id": "5c56315408114bdba0efe28ce4de29af"
      }
     },
     "metadata": {},
     "output_type": "display_data"
    },
    {
     "data": {
      "application/vnd.jupyter.widget-view+json": {
       "model_id": "1bc362dc157c45b29c3106009eed21bb"
      }
     },
     "metadata": {},
     "output_type": "display_data"
    },
    {
     "data": {
      "application/vnd.jupyter.widget-view+json": {
       "model_id": "cc5b2621f545494e98a9ae3b3e18baaf"
      }
     },
     "metadata": {},
     "output_type": "display_data"
    },
    {
     "data": {
      "application/vnd.jupyter.widget-view+json": {
       "model_id": "3a2cec648ad4497bb3a1312bd29e4282"
      }
     },
     "metadata": {},
     "output_type": "display_data"
    },
    {
     "data": {
      "application/vnd.jupyter.widget-view+json": {
       "model_id": "05f5643765064cef8b4b00213294d6a3"
      }
     },
     "metadata": {},
     "output_type": "display_data"
    },
    {
     "data": {
      "application/vnd.jupyter.widget-view+json": {
       "model_id": "bc6b7ba1bb344b64b495a3a23ef094c9"
      }
     },
     "metadata": {},
     "output_type": "display_data"
    },
    {
     "data": {
      "application/vnd.jupyter.widget-view+json": {
       "model_id": "0ad1d0e94772470f9bd694758e5d06fb"
      }
     },
     "metadata": {},
     "output_type": "display_data"
    },
    {
     "data": {
      "application/vnd.jupyter.widget-view+json": {
       "model_id": "17b384b83ea14a8d8c568344b738d2d3"
      }
     },
     "metadata": {},
     "output_type": "display_data"
    },
    {
     "data": {
      "application/vnd.jupyter.widget-view+json": {
       "model_id": "afb32f0becb74928be0ad3c285f3ad8b"
      }
     },
     "metadata": {},
     "output_type": "display_data"
    },
    {
     "data": {
      "application/vnd.jupyter.widget-view+json": {
       "model_id": "058d454beaf943a6bf7a49b6a205258f"
      }
     },
     "metadata": {},
     "output_type": "display_data"
    },
    {
     "data": {
      "application/vnd.jupyter.widget-view+json": {
       "model_id": "2f4fa1cd92be472cb118b69a12bdb561"
      }
     },
     "metadata": {},
     "output_type": "display_data"
    },
    {
     "data": {
      "application/vnd.jupyter.widget-view+json": {
       "model_id": "4a5bc942e197429da4eed628a4b456b1"
      }
     },
     "metadata": {},
     "output_type": "display_data"
    },
    {
     "data": {
      "application/vnd.jupyter.widget-view+json": {
       "model_id": "80f5edbca79a4a5aa0a198685a6e1f4e"
      }
     },
     "metadata": {},
     "output_type": "display_data"
    },
    {
     "data": {
      "application/vnd.jupyter.widget-view+json": {
       "model_id": "e51a138ffe344d5bb82121111a8b9189"
      }
     },
     "metadata": {},
     "output_type": "display_data"
    },
    {
     "data": {
      "application/vnd.jupyter.widget-view+json": {
       "model_id": "d64bc5e71c554bb8916bf19b563a27e0"
      }
     },
     "metadata": {},
     "output_type": "display_data"
    },
    {
     "data": {
      "application/vnd.jupyter.widget-view+json": {
       "model_id": "aa4668ada9a0440a960e0b26ce427603"
      }
     },
     "metadata": {},
     "output_type": "display_data"
    },
    {
     "data": {
      "application/vnd.jupyter.widget-view+json": {
       "model_id": "7115e3fde014442ca06d0717ee1e5fc4"
      }
     },
     "metadata": {},
     "output_type": "display_data"
    },
    {
     "data": {
      "application/vnd.jupyter.widget-view+json": {
       "model_id": "45388d3962f3407689a2ba7e2bb463cd"
      }
     },
     "metadata": {},
     "output_type": "display_data"
    },
    {
     "data": {
      "application/vnd.jupyter.widget-view+json": {
       "model_id": "66f4361b07e54316bcbd271d714c97b0"
      }
     },
     "metadata": {},
     "output_type": "display_data"
    },
    {
     "data": {
      "application/vnd.jupyter.widget-view+json": {
       "model_id": "65d9a7954b6f436293c7d8f656b18e35"
      }
     },
     "metadata": {},
     "output_type": "display_data"
    },
    {
     "data": {
      "application/vnd.jupyter.widget-view+json": {
       "model_id": "d5f3c88fb3d54b0fa0fd6f9ac9876e90"
      }
     },
     "metadata": {},
     "output_type": "display_data"
    },
    {
     "data": {
      "application/vnd.jupyter.widget-view+json": {
       "model_id": "9310c1a6d3c3453ab0027c46d1bd6dba"
      }
     },
     "metadata": {},
     "output_type": "display_data"
    },
    {
     "data": {
      "application/vnd.jupyter.widget-view+json": {
       "model_id": "4d6dfb4cc3e744ff8e64ef52f47627c8"
      }
     },
     "metadata": {},
     "output_type": "display_data"
    },
    {
     "data": {
      "application/vnd.jupyter.widget-view+json": {
       "model_id": "77860f9382874d90a748bc6647aba38f"
      }
     },
     "metadata": {},
     "output_type": "display_data"
    },
    {
     "data": {
      "application/vnd.jupyter.widget-view+json": {
       "model_id": "75e6d8e000f7441b9a1b953d7f4a8045"
      }
     },
     "metadata": {},
     "output_type": "display_data"
    },
    {
     "data": {
      "application/vnd.jupyter.widget-view+json": {
       "model_id": "699ecf1af8c442c3a290db9425af8f76"
      }
     },
     "metadata": {},
     "output_type": "display_data"
    },
    {
     "data": {
      "application/vnd.jupyter.widget-view+json": {
       "model_id": "271321921ae841708a3d4be64f355424"
      }
     },
     "metadata": {},
     "output_type": "display_data"
    },
    {
     "data": {
      "application/vnd.jupyter.widget-view+json": {
       "model_id": "50db670636ed4754ba770b73a862c28d"
      }
     },
     "metadata": {},
     "output_type": "display_data"
    },
    {
     "data": {
      "application/vnd.jupyter.widget-view+json": {
       "model_id": "1d33d82d008a45839d9a63a940f4b7c4"
      }
     },
     "metadata": {},
     "output_type": "display_data"
    },
    {
     "data": {
      "application/vnd.jupyter.widget-view+json": {
       "model_id": "5781396be0c34a91887c4354839f9676"
      }
     },
     "metadata": {},
     "output_type": "display_data"
    },
    {
     "data": {
      "application/vnd.jupyter.widget-view+json": {
       "model_id": "8307c5d5fa40422a944d01bf7f892d17"
      }
     },
     "metadata": {},
     "output_type": "display_data"
    },
    {
     "data": {
      "application/vnd.jupyter.widget-view+json": {
       "model_id": "a9fc66a605d842dba4230d38a441eb12"
      }
     },
     "metadata": {},
     "output_type": "display_data"
    },
    {
     "data": {
      "application/vnd.jupyter.widget-view+json": {
       "model_id": "28c741ca77bb4ea8a49db87d7baa3a9b"
      }
     },
     "metadata": {},
     "output_type": "display_data"
    },
    {
     "data": {
      "application/vnd.jupyter.widget-view+json": {
       "model_id": "dacece6984774f50ae2e36018060f780"
      }
     },
     "metadata": {},
     "output_type": "display_data"
    },
    {
     "data": {
      "application/vnd.jupyter.widget-view+json": {
       "model_id": "1f48592e08184e57a492b47fd26023c0"
      }
     },
     "metadata": {},
     "output_type": "display_data"
    },
    {
     "data": {
      "application/vnd.jupyter.widget-view+json": {
       "model_id": "088742e7466f47c4bc503decf2b48b8d"
      }
     },
     "metadata": {},
     "output_type": "display_data"
    },
    {
     "data": {
      "application/vnd.jupyter.widget-view+json": {
       "model_id": "fd3bda2d4a5e4e2aa90eb06ad6a81f99"
      }
     },
     "metadata": {},
     "output_type": "display_data"
    },
    {
     "data": {
      "application/vnd.jupyter.widget-view+json": {
       "model_id": "240ec05cbce94151bddc0883173dca95"
      }
     },
     "metadata": {},
     "output_type": "display_data"
    },
    {
     "data": {
      "application/vnd.jupyter.widget-view+json": {
       "model_id": "c23670edc710431c9ccbbc2936645cc0"
      }
     },
     "metadata": {},
     "output_type": "display_data"
    },
    {
     "data": {
      "application/vnd.jupyter.widget-view+json": {
       "model_id": "7c7f63de23eb48b08e931be99fce9299"
      }
     },
     "metadata": {},
     "output_type": "display_data"
    },
    {
     "data": {
      "application/vnd.jupyter.widget-view+json": {
       "model_id": "75930d842cbf4115a0eaea1852a4ad54"
      }
     },
     "metadata": {},
     "output_type": "display_data"
    },
    {
     "data": {
      "application/vnd.jupyter.widget-view+json": {
       "model_id": "65e82eb3cdd04db2b06194760c38c79c"
      }
     },
     "metadata": {},
     "output_type": "display_data"
    },
    {
     "data": {
      "application/vnd.jupyter.widget-view+json": {
       "model_id": "0f936c3c08144e269d1175673aa74261"
      }
     },
     "metadata": {},
     "output_type": "display_data"
    },
    {
     "data": {
      "application/vnd.jupyter.widget-view+json": {
       "model_id": "39dc90914205425193abfea5025b9df2"
      }
     },
     "metadata": {},
     "output_type": "display_data"
    },
    {
     "data": {
      "application/vnd.jupyter.widget-view+json": {
       "model_id": "6a195a648bfa46c5a82ceaf59e57e577"
      }
     },
     "metadata": {},
     "output_type": "display_data"
    },
    {
     "data": {
      "application/vnd.jupyter.widget-view+json": {
       "model_id": "1c837600dc134b289939bb1f9d410877"
      }
     },
     "metadata": {},
     "output_type": "display_data"
    },
    {
     "data": {
      "application/vnd.jupyter.widget-view+json": {
       "model_id": "b10047fea0ce4f819900d6bd66f6f787"
      }
     },
     "metadata": {},
     "output_type": "display_data"
    },
    {
     "data": {
      "application/vnd.jupyter.widget-view+json": {
       "model_id": "dd4662e103634e8592f24f8900188efc"
      }
     },
     "metadata": {},
     "output_type": "display_data"
    },
    {
     "data": {
      "application/vnd.jupyter.widget-view+json": {
       "model_id": "f1259427af3f47d8abe7ac2a40c03eb0"
      }
     },
     "metadata": {},
     "output_type": "display_data"
    },
    {
     "data": {
      "application/vnd.jupyter.widget-view+json": {
       "model_id": "d10f07eeea4c47ebb8c1f9398a619d5b"
      }
     },
     "metadata": {},
     "output_type": "display_data"
    },
    {
     "data": {
      "application/vnd.jupyter.widget-view+json": {
       "model_id": "b7ca4e452071496a93ca68c70e6bb522"
      }
     },
     "metadata": {},
     "output_type": "display_data"
    },
    {
     "data": {
      "application/vnd.jupyter.widget-view+json": {
       "model_id": "397167c973a64069b6f63e3a848dfba8"
      }
     },
     "metadata": {},
     "output_type": "display_data"
    },
    {
     "data": {
      "application/vnd.jupyter.widget-view+json": {
       "model_id": "cc7a9c2e83b346f1b497066557d4aed6"
      }
     },
     "metadata": {},
     "output_type": "display_data"
    },
    {
     "data": {
      "application/vnd.jupyter.widget-view+json": {
       "model_id": "3c7be80bb4ee419baf70e0063dfd3270"
      }
     },
     "metadata": {},
     "output_type": "display_data"
    },
    {
     "data": {
      "application/vnd.jupyter.widget-view+json": {
       "model_id": "1355acc7563d4f229ac85e21fbdb13c0"
      }
     },
     "metadata": {},
     "output_type": "display_data"
    },
    {
     "data": {
      "application/vnd.jupyter.widget-view+json": {
       "model_id": "760590917a824cb4b8db11ae9251752a"
      }
     },
     "metadata": {},
     "output_type": "display_data"
    },
    {
     "data": {
      "application/vnd.jupyter.widget-view+json": {
       "model_id": "b502a48c659f4238a08fc33dad9903aa"
      }
     },
     "metadata": {},
     "output_type": "display_data"
    },
    {
     "data": {
      "application/vnd.jupyter.widget-view+json": {
       "model_id": "cc88f61ec8ee40ce8a772f9fed60f97e"
      }
     },
     "metadata": {},
     "output_type": "display_data"
    },
    {
     "data": {
      "application/vnd.jupyter.widget-view+json": {
       "model_id": "350667e99c3f467f8f90c81c04317563"
      }
     },
     "metadata": {},
     "output_type": "display_data"
    },
    {
     "data": {
      "application/vnd.jupyter.widget-view+json": {
       "model_id": "8d8a8ec0353c424f9d3021d9bc0d20d6"
      }
     },
     "metadata": {},
     "output_type": "display_data"
    },
    {
     "data": {
      "application/vnd.jupyter.widget-view+json": {
       "model_id": "c0488c76b68842e182365fb24bbd73a1"
      }
     },
     "metadata": {},
     "output_type": "display_data"
    },
    {
     "data": {
      "application/vnd.jupyter.widget-view+json": {
       "model_id": "058d2549c106435b8c3156b5d2448269"
      }
     },
     "metadata": {},
     "output_type": "display_data"
    },
    {
     "data": {
      "application/vnd.jupyter.widget-view+json": {
       "model_id": "2e7f2316182e4282825249793fa6f47f"
      }
     },
     "metadata": {},
     "output_type": "display_data"
    },
    {
     "data": {
      "application/vnd.jupyter.widget-view+json": {
       "model_id": "041913efa8ef42fda1a22d7b32db786a"
      }
     },
     "metadata": {},
     "output_type": "display_data"
    },
    {
     "data": {
      "application/vnd.jupyter.widget-view+json": {
       "model_id": "59a2e58bdc87407eb76f0127bdf4c7cc"
      }
     },
     "metadata": {},
     "output_type": "display_data"
    },
    {
     "data": {
      "application/vnd.jupyter.widget-view+json": {
       "model_id": "c516ea78c0884b028fe9cb9c08759609"
      }
     },
     "metadata": {},
     "output_type": "display_data"
    },
    {
     "data": {
      "application/vnd.jupyter.widget-view+json": {
       "model_id": "f531ee42b64a4467acdc77cc621f85f9"
      }
     },
     "metadata": {},
     "output_type": "display_data"
    },
    {
     "data": {
      "application/vnd.jupyter.widget-view+json": {
       "model_id": "4aa7013345aa4a3aba64fc3675a0157e"
      }
     },
     "metadata": {},
     "output_type": "display_data"
    },
    {
     "data": {
      "application/vnd.jupyter.widget-view+json": {
       "model_id": "6aa26ca5c3ed4a5eaf06ad8eb591f8f6"
      }
     },
     "metadata": {},
     "output_type": "display_data"
    },
    {
     "data": {
      "application/vnd.jupyter.widget-view+json": {
       "model_id": "35814a55dc41474b8a8f6899dc0ae331"
      }
     },
     "metadata": {},
     "output_type": "display_data"
    },
    {
     "data": {
      "application/vnd.jupyter.widget-view+json": {
       "model_id": "706fdfd48b90421aac2325e75719f20c"
      }
     },
     "metadata": {},
     "output_type": "display_data"
    },
    {
     "data": {
      "application/vnd.jupyter.widget-view+json": {
       "model_id": "b946e6db4bc7474ea7847bfd41e257a4"
      }
     },
     "metadata": {},
     "output_type": "display_data"
    },
    {
     "data": {
      "application/vnd.jupyter.widget-view+json": {
       "model_id": "986555240c4f4f65b447c85256ed7173"
      }
     },
     "metadata": {},
     "output_type": "display_data"
    },
    {
     "data": {
      "application/vnd.jupyter.widget-view+json": {
       "model_id": "6f167b59a0bc4d4e91bb8405c239dacc"
      }
     },
     "metadata": {},
     "output_type": "display_data"
    },
    {
     "data": {
      "application/vnd.jupyter.widget-view+json": {
       "model_id": "048b0c6f23f647568f51fe565a10eabd"
      }
     },
     "metadata": {},
     "output_type": "display_data"
    },
    {
     "data": {
      "application/vnd.jupyter.widget-view+json": {
       "model_id": "c2025c370f334d1ba4d24041764ef37b"
      }
     },
     "metadata": {},
     "output_type": "display_data"
    },
    {
     "data": {
      "application/vnd.jupyter.widget-view+json": {
       "model_id": "109f3973e0294c56950c20d36e00800e"
      }
     },
     "metadata": {},
     "output_type": "display_data"
    },
    {
     "data": {
      "application/vnd.jupyter.widget-view+json": {
       "model_id": "29882000c49a4c7a98a162a61a85a7f6"
      }
     },
     "metadata": {},
     "output_type": "display_data"
    },
    {
     "data": {
      "application/vnd.jupyter.widget-view+json": {
       "model_id": "3f55679ab86d4f25b501567168ed40fc"
      }
     },
     "metadata": {},
     "output_type": "display_data"
    },
    {
     "data": {
      "application/vnd.jupyter.widget-view+json": {
       "model_id": "0347e24f2bf64613b0bf495ae059652a"
      }
     },
     "metadata": {},
     "output_type": "display_data"
    },
    {
     "data": {
      "application/vnd.jupyter.widget-view+json": {
       "model_id": "f3e2b924c07b43468436326986bcfac3"
      }
     },
     "metadata": {},
     "output_type": "display_data"
    },
    {
     "data": {
      "application/vnd.jupyter.widget-view+json": {
       "model_id": "f2398434f8584cb8849a6ebf6576ab2b"
      }
     },
     "metadata": {},
     "output_type": "display_data"
    },
    {
     "data": {
      "application/vnd.jupyter.widget-view+json": {
       "model_id": "dc4c2db2f87b4f9c939d5b293e6d6ef7"
      }
     },
     "metadata": {},
     "output_type": "display_data"
    },
    {
     "data": {
      "application/vnd.jupyter.widget-view+json": {
       "model_id": "dbbdc18c88994fbe8ddead6a365f9d1d"
      }
     },
     "metadata": {},
     "output_type": "display_data"
    },
    {
     "data": {
      "application/vnd.jupyter.widget-view+json": {
       "model_id": "8d375d7970f74d84b31e9b0772ed6cec"
      }
     },
     "metadata": {},
     "output_type": "display_data"
    },
    {
     "data": {
      "application/vnd.jupyter.widget-view+json": {
       "model_id": "6bd657bc29164c48b8f6a8cdbebccd0f"
      }
     },
     "metadata": {},
     "output_type": "display_data"
    },
    {
     "data": {
      "application/vnd.jupyter.widget-view+json": {
       "model_id": "1188acdf6b954c8baab8edbbb44ed2a8"
      }
     },
     "metadata": {},
     "output_type": "display_data"
    },
    {
     "data": {
      "application/vnd.jupyter.widget-view+json": {
       "model_id": "df6037eb34f340b88417f2b09c606b17"
      }
     },
     "metadata": {},
     "output_type": "display_data"
    },
    {
     "data": {
      "application/vnd.jupyter.widget-view+json": {
       "model_id": "d20112483b1240aeaf1712f2e25027a6"
      }
     },
     "metadata": {},
     "output_type": "display_data"
    },
    {
     "data": {
      "application/vnd.jupyter.widget-view+json": {
       "model_id": "6add5fbe1b9c4c55b3ca48e0ac02f031"
      }
     },
     "metadata": {},
     "output_type": "display_data"
    },
    {
     "data": {
      "application/vnd.jupyter.widget-view+json": {
       "model_id": "eb04adb3ce4641aba4d65b81b228a5c0"
      }
     },
     "metadata": {},
     "output_type": "display_data"
    },
    {
     "data": {
      "application/vnd.jupyter.widget-view+json": {
       "model_id": "9b3c81fd14534dcc8c474c4623acba3a"
      }
     },
     "metadata": {},
     "output_type": "display_data"
    },
    {
     "data": {
      "application/vnd.jupyter.widget-view+json": {
       "model_id": "3010ffce8e304c529cb8565edcf88c6b"
      }
     },
     "metadata": {},
     "output_type": "display_data"
    },
    {
     "data": {
      "application/vnd.jupyter.widget-view+json": {
       "model_id": "dea4faa4dcc0443e90a39cebecb6a636"
      }
     },
     "metadata": {},
     "output_type": "display_data"
    },
    {
     "data": {
      "application/vnd.jupyter.widget-view+json": {
       "model_id": "656716c7bb1942f2ac87050df8a3d85f"
      }
     },
     "metadata": {},
     "output_type": "display_data"
    },
    {
     "data": {
      "application/vnd.jupyter.widget-view+json": {
       "model_id": "87d3b1fe8f964ce885b94af65efdf280"
      }
     },
     "metadata": {},
     "output_type": "display_data"
    },
    {
     "data": {
      "application/vnd.jupyter.widget-view+json": {
       "model_id": "40c0a15fb60948f8a199f300cfc5766a"
      }
     },
     "metadata": {},
     "output_type": "display_data"
    },
    {
     "data": {
      "application/vnd.jupyter.widget-view+json": {
       "model_id": "c0404d47f9044ebd909f305d8393ba20"
      }
     },
     "metadata": {},
     "output_type": "display_data"
    },
    {
     "data": {
      "application/vnd.jupyter.widget-view+json": {
       "model_id": "5068c997ac0745fb90d9da222eba5918"
      }
     },
     "metadata": {},
     "output_type": "display_data"
    },
    {
     "data": {
      "application/vnd.jupyter.widget-view+json": {
       "model_id": "fa0acd218b274b2eb3051322b5060d13"
      }
     },
     "metadata": {},
     "output_type": "display_data"
    },
    {
     "data": {
      "application/vnd.jupyter.widget-view+json": {
       "model_id": "273d17c1bd98407d8c83322851e742a1"
      }
     },
     "metadata": {},
     "output_type": "display_data"
    },
    {
     "data": {
      "application/vnd.jupyter.widget-view+json": {
       "model_id": "cf76225d2e974dcfa146ac9191c72c99"
      }
     },
     "metadata": {},
     "output_type": "display_data"
    },
    {
     "data": {
      "application/vnd.jupyter.widget-view+json": {
       "model_id": "aff81cdd4eda4300a49efc14a13edc62"
      }
     },
     "metadata": {},
     "output_type": "display_data"
    },
    {
     "data": {
      "application/vnd.jupyter.widget-view+json": {
       "model_id": "7837304f7e7d4a769176c15ab761163c"
      }
     },
     "metadata": {},
     "output_type": "display_data"
    },
    {
     "data": {
      "application/vnd.jupyter.widget-view+json": {
       "model_id": "92b513f1904c47c29484b9e82447f065"
      }
     },
     "metadata": {},
     "output_type": "display_data"
    },
    {
     "data": {
      "application/vnd.jupyter.widget-view+json": {
       "model_id": "d6d0dbf30c2a48e18b5945c83c2d308e"
      }
     },
     "metadata": {},
     "output_type": "display_data"
    },
    {
     "data": {
      "application/vnd.jupyter.widget-view+json": {
       "model_id": "6dc3d30e8f254c4a882fde8bcf42ae5f"
      }
     },
     "metadata": {},
     "output_type": "display_data"
    },
    {
     "data": {
      "application/vnd.jupyter.widget-view+json": {
       "model_id": "6feda6089d524c65be2295964eee9c1b"
      }
     },
     "metadata": {},
     "output_type": "display_data"
    },
    {
     "data": {
      "application/vnd.jupyter.widget-view+json": {
       "model_id": "175c0c00ee374f56a04c39f6eb53ec2c"
      }
     },
     "metadata": {},
     "output_type": "display_data"
    },
    {
     "data": {
      "application/vnd.jupyter.widget-view+json": {
       "model_id": "e5c64fbfd9e44e4fbd426bbc244c0651"
      }
     },
     "metadata": {},
     "output_type": "display_data"
    },
    {
     "data": {
      "application/vnd.jupyter.widget-view+json": {
       "model_id": "8fa49a7256664e74bbe39f3ac232dc8e"
      }
     },
     "metadata": {},
     "output_type": "display_data"
    },
    {
     "data": {
      "application/vnd.jupyter.widget-view+json": {
       "model_id": "307b05cca413468a9abb032bf4769514"
      }
     },
     "metadata": {},
     "output_type": "display_data"
    },
    {
     "data": {
      "application/vnd.jupyter.widget-view+json": {
       "model_id": "4a80b59be3c24ccfa757973d1ecb2076"
      }
     },
     "metadata": {},
     "output_type": "display_data"
    },
    {
     "data": {
      "application/vnd.jupyter.widget-view+json": {
       "model_id": "1a7b66a69ba64666937af654738fea6e"
      }
     },
     "metadata": {},
     "output_type": "display_data"
    },
    {
     "data": {
      "application/vnd.jupyter.widget-view+json": {
       "model_id": "ee089b1ea6fc4471a592842c5aa75d60"
      }
     },
     "metadata": {},
     "output_type": "display_data"
    },
    {
     "data": {
      "application/vnd.jupyter.widget-view+json": {
       "model_id": "e3c431e8af7c4885999980dacb197aa3"
      }
     },
     "metadata": {},
     "output_type": "display_data"
    },
    {
     "data": {
      "application/vnd.jupyter.widget-view+json": {
       "model_id": "32f43e0e69284436a1298eea8c24c499"
      }
     },
     "metadata": {},
     "output_type": "display_data"
    },
    {
     "data": {
      "application/vnd.jupyter.widget-view+json": {
       "model_id": "1911596bf2f54bc88a3536f8dfc83387"
      }
     },
     "metadata": {},
     "output_type": "display_data"
    },
    {
     "data": {
      "application/vnd.jupyter.widget-view+json": {
       "model_id": "546c88abaa9447fc9a4db2b2a6be3363"
      }
     },
     "metadata": {},
     "output_type": "display_data"
    },
    {
     "data": {
      "application/vnd.jupyter.widget-view+json": {
       "model_id": "41434528c13748ab85a6dcec76162586"
      }
     },
     "metadata": {},
     "output_type": "display_data"
    },
    {
     "data": {
      "application/vnd.jupyter.widget-view+json": {
       "model_id": "a833bdc4957d445c96838b98075451bf"
      }
     },
     "metadata": {},
     "output_type": "display_data"
    },
    {
     "data": {
      "application/vnd.jupyter.widget-view+json": {
       "model_id": "1160674b815b4b18a760a0f352ecd439"
      }
     },
     "metadata": {},
     "output_type": "display_data"
    },
    {
     "data": {
      "application/vnd.jupyter.widget-view+json": {
       "model_id": "0b2d3483dca24dedaee37d3a62b529f4"
      }
     },
     "metadata": {},
     "output_type": "display_data"
    },
    {
     "data": {
      "application/vnd.jupyter.widget-view+json": {
       "model_id": "7bbb63a857c04fa3a38c365c0500fdd6"
      }
     },
     "metadata": {},
     "output_type": "display_data"
    },
    {
     "data": {
      "application/vnd.jupyter.widget-view+json": {
       "model_id": "df546145017c4a9085214e30a67677a1"
      }
     },
     "metadata": {},
     "output_type": "display_data"
    },
    {
     "data": {
      "application/vnd.jupyter.widget-view+json": {
       "model_id": "bdb7558e93ad475495b85cbe6bec3862"
      }
     },
     "metadata": {},
     "output_type": "display_data"
    },
    {
     "data": {
      "application/vnd.jupyter.widget-view+json": {
       "model_id": "079386e8b1b7478298799af6fd1320d1"
      }
     },
     "metadata": {},
     "output_type": "display_data"
    },
    {
     "data": {
      "application/vnd.jupyter.widget-view+json": {
       "model_id": "10b9d0ea7fd444b899da9824607d7534"
      }
     },
     "metadata": {},
     "output_type": "display_data"
    },
    {
     "data": {
      "application/vnd.jupyter.widget-view+json": {
       "model_id": "ddc01c89c569495d8c07b83e3b942688"
      }
     },
     "metadata": {},
     "output_type": "display_data"
    },
    {
     "data": {
      "application/vnd.jupyter.widget-view+json": {
       "model_id": "edec0c1f2b884ae6b120c7ee334a3c13"
      }
     },
     "metadata": {},
     "output_type": "display_data"
    },
    {
     "data": {
      "application/vnd.jupyter.widget-view+json": {
       "model_id": "f742b2d3d0084824b5253b06e66e0559"
      }
     },
     "metadata": {},
     "output_type": "display_data"
    },
    {
     "data": {
      "application/vnd.jupyter.widget-view+json": {
       "model_id": "ae6a5d4c1f3e47d1b95cd5f6b0e19840"
      }
     },
     "metadata": {},
     "output_type": "display_data"
    },
    {
     "data": {
      "application/vnd.jupyter.widget-view+json": {
       "model_id": "5575ab61890a4c0096cded02c2b3f440"
      }
     },
     "metadata": {},
     "output_type": "display_data"
    },
    {
     "data": {
      "application/vnd.jupyter.widget-view+json": {
       "model_id": "571a4081c59a43738c637e062e556200"
      }
     },
     "metadata": {},
     "output_type": "display_data"
    },
    {
     "data": {
      "application/vnd.jupyter.widget-view+json": {
       "model_id": "50521d0bef3041c4bb88d3f1d6590a0e"
      }
     },
     "metadata": {},
     "output_type": "display_data"
    },
    {
     "data": {
      "application/vnd.jupyter.widget-view+json": {
       "model_id": "74f05838677b4f048a30e8548f2ef660"
      }
     },
     "metadata": {},
     "output_type": "display_data"
    },
    {
     "data": {
      "application/vnd.jupyter.widget-view+json": {
       "model_id": "b8757200c1984a9da5393c95117fab7e"
      }
     },
     "metadata": {},
     "output_type": "display_data"
    },
    {
     "data": {
      "application/vnd.jupyter.widget-view+json": {
       "model_id": "09cd14ebb7394d95a3312e3b12f9b83c"
      }
     },
     "metadata": {},
     "output_type": "display_data"
    },
    {
     "data": {
      "application/vnd.jupyter.widget-view+json": {
       "model_id": "dbe500ca09aa4eef952224cd28fd12ce"
      }
     },
     "metadata": {},
     "output_type": "display_data"
    },
    {
     "data": {
      "application/vnd.jupyter.widget-view+json": {
       "model_id": "19b6c000a5e2410fb7e86699d2e49ef8"
      }
     },
     "metadata": {},
     "output_type": "display_data"
    },
    {
     "data": {
      "application/vnd.jupyter.widget-view+json": {
       "model_id": "04b5c905d70046a5ae0544cf9c18bbdf"
      }
     },
     "metadata": {},
     "output_type": "display_data"
    },
    {
     "data": {
      "application/vnd.jupyter.widget-view+json": {
       "model_id": "1406c90cdacb4d9abdfbdfdda34b98d7"
      }
     },
     "metadata": {},
     "output_type": "display_data"
    },
    {
     "data": {
      "application/vnd.jupyter.widget-view+json": {
       "model_id": "0a2c4aa392ee4b06bc7d570d13220011"
      }
     },
     "metadata": {},
     "output_type": "display_data"
    },
    {
     "data": {
      "application/vnd.jupyter.widget-view+json": {
       "model_id": "1b40d1ae2ce441239037c7c3b16807d8"
      }
     },
     "metadata": {},
     "output_type": "display_data"
    },
    {
     "data": {
      "application/vnd.jupyter.widget-view+json": {
       "model_id": "bfca9a4ff77a4cc08a579a411cc307d7"
      }
     },
     "metadata": {},
     "output_type": "display_data"
    },
    {
     "name": "stdout",
     "output_type": "stream",
     "text": [
      "\n"
     ]
    }
   ],
   "source": [
    "train_stat = []\n",
    "\n",
    "for fold_i, (train_idxs, test_idxs) in tqdm_notebook(list(enumerate(fold_idxs))):\n",
    "    fold_stat = {}\n",
    "    \n",
    "    # разбиваем данные\n",
    "    y_train, y_test = y[train_idxs], y[test_idxs]\n",
    "    train_posters, test_posters = posters[train_idxs], posters[test_idxs]\n",
    "    \n",
    "    # подготовка входов сети\n",
    "    train_mean, train_std = calc_mean_std(train_posters)\n",
    "    \n",
    "    fold_stat['posters_train_mean'] = train_mean\n",
    "    fold_stat['posters_train_std'] = train_std\n",
    "\n",
    "    train_datagen = ImageDataGenerator(\n",
    "        shear_range=0.4,\n",
    "        horizontal_flip=True,\n",
    "        rotation_range=20.,\n",
    "        width_shift_range=0.4,\n",
    "        height_shift_range=0.4,\n",
    "        zoom_range=0.4,\n",
    "        vertical_flip=True,\n",
    "    )\n",
    "    \n",
    "    X_train_posters = np.array([preprocess_poster(poster_i, train_mean, train_std)\n",
    "                               for poster_i in train_posters])\n",
    "\n",
    "    train_datagen.fit(X_train_posters, augment=True)\n",
    "    train_flow = train_datagen.flow(X_train_posters, y_train, batch_size=batch_size)\n",
    "\n",
    "    \n",
    "    X_test_posters = np.array([preprocess_poster(poster_i, train_mean, train_std)\n",
    "                               for poster_i in test_posters])\n",
    "\n",
    "    steps_per_epoch = len(X_train_posters) // batch_size\n",
    "    \n",
    "    # подготовка модели для обучения только новых слоев\n",
    "    model = get_vgg16_model()\n",
    "    \n",
    "    for layer in model.layers[:-5]:\n",
    "        layer.trainable = False\n",
    "    for layer in model.layers[-5:]:\n",
    "        layer.trainable = True\n",
    "\n",
    "    model.compile(optimizer='rmsprop', loss='binary_crossentropy',\n",
    "                  metrics=['binary_accuracy', precision, recall, f1])\n",
    "    \n",
    "    base_checkpoints_path = os.path.join(checkpoints_prefix, 'base_checkpoints', str(fold_i))\n",
    "    checkpoints_path = os.path.join(checkpoints_prefix, 'checkpoints', str(fold_i))\n",
    "    \n",
    "    shutil.rmtree(base_checkpoints_path, ignore_errors=True)\n",
    "    shutil.rmtree(checkpoints_path, ignore_errors=True)\n",
    "    \n",
    "    os.makedirs(base_checkpoints_path)\n",
    "    os.makedirs(checkpoints_path)\n",
    "\n",
    "    base_checkpoints_path_template = os.path.join(base_checkpoints_path, 'base_checkpoint.hdf5')\n",
    "    checkpoints_path_template = os.path.join(checkpoints_path, 'checkpoints.hdf5')\n",
    "    \n",
    "    base_checkpointer = ModelCheckpoint(base_checkpoints_path_template, save_best_only=True)\n",
    "    checkpointer = ModelCheckpoint(checkpoints_path_template, save_best_only=True)\n",
    "    \n",
    "    base_history = model.fit_generator(\n",
    "        train_flow,\n",
    "        steps_per_epoch=steps_per_epoch,\n",
    "        validation_data=(X_test_posters, y_test),\n",
    "        epochs=10,\n",
    "        callbacks=[TQDMNotebookCallback(leave_outer=False), base_checkpointer, EarlyStopping(patience=10)],\n",
    "        verbose=0\n",
    "    )\n",
    "    \n",
    "    fold_stat['base_history'] = base_history.history\n",
    "    \n",
    "    # обучение пары последних сверточных блоков\n",
    "    for layer in model.layers[:15]:\n",
    "        layer.trainable = False\n",
    "    for layer in model.layers[15:]:\n",
    "        layer.trainable = True\n",
    "\n",
    "    model.compile(optimizer=SGD(lr=0.0001, momentum=0.9), loss='binary_crossentropy',\n",
    "                  metrics=['binary_accuracy', precision, recall, f1])\n",
    "    \n",
    "    history = model.fit_generator(\n",
    "        train_flow,\n",
    "        steps_per_epoch=steps_per_epoch,\n",
    "        validation_data=(X_test_posters, y_test),\n",
    "        epochs=75,\n",
    "        callbacks=[TQDMNotebookCallback(leave_outer=False), checkpointer, EarlyStopping(patience=10)],\n",
    "        verbose=0\n",
    "    )\n",
    "    \n",
    "    fold_stat['history'] = history.history\n",
    "    \n",
    "    # получение векторных представлений постеров\n",
    "    model_path = os.path.join(checkpoints_path, 'checkpoints.hdf5')\n",
    "    model = load_model(model_path, compile=False)\n",
    "    model = pop_last_3_layers(model)\n",
    "    model.compile(optimizer=SGD(lr=0.0001, momentum=0.9), loss='binary_crossentropy')\n",
    "\n",
    "    fold_stat['train_posters_vect_repr'] = model.predict(X_train_posters)\n",
    "    fold_stat['test_posters_vect_repr'] = model.predict(X_test_posters)\n",
    "    \n",
    "    train_stat.append(fold_stat)"
   ]
  },
  {
   "cell_type": "code",
   "execution_count": 5,
   "metadata": {
    "ExecuteTime": {
     "end_time": "2017-09-28T20:22:18.371994Z",
     "start_time": "2017-09-28T20:22:18.359127Z"
    },
    "collapsed": true
   },
   "outputs": [],
   "source": [
    "import pickle\n",
    "\n",
    "# with open('nn_train_stats_2.p', 'wb') as f:\n",
    "#     pickle.dump(train_stat, f)\n",
    "\n",
    "with open('nn_train_stats_2.p', 'rb') as f:\n",
    "    train_stat = pickle.load(f)"
   ]
  },
  {
   "cell_type": "code",
   "execution_count": 16,
   "metadata": {
    "ExecuteTime": {
     "end_time": "2017-09-28T19:54:39.271402Z",
     "start_time": "2017-09-28T19:54:39.124892Z"
    },
    "collapsed": true
   },
   "outputs": [],
   "source": [
    "import matplotlib.pyplot as plt\n",
    "%matplotlib notebook\n",
    "\n",
    "def plot_fold(fold_i, start_epoch=None, end_epoch=None, history_type='last'):\n",
    "    if history_type == 'last':\n",
    "        history = 'history'\n",
    "    else:\n",
    "        history = 'base_history'\n",
    "        \n",
    "    df = pd.DataFrame(train_stat[fold_i][history])\n",
    "    \n",
    "    start_epoch = start_epoch or 0\n",
    "    end_epoch = end_epoch or len(df)\n",
    "    \n",
    "    df = df.iloc[start_epoch:end_epoch]\n",
    "    \n",
    "    for metric in ['loss', 'precision', 'recall', 'f1']:\n",
    "        df[[metric, 'val_{}'.format(metric)]].plot()\n",
    "        plt.show()"
   ]
  },
  {
   "cell_type": "markdown",
   "metadata": {
    "ExecuteTime": {
     "end_time": "2017-09-25T08:08:40.329906Z",
     "start_time": "2017-09-25T08:08:40.325081Z"
    }
   },
   "source": [
    "## Строим векторные представления для тестовых постеров"
   ]
  },
  {
   "cell_type": "code",
   "execution_count": 18,
   "metadata": {
    "ExecuteTime": {
     "end_time": "2017-09-28T19:55:48.944056Z",
     "start_time": "2017-09-28T19:55:15.680516Z"
    }
   },
   "outputs": [
    {
     "data": {
      "application/vnd.jupyter.widget-view+json": {
       "model_id": "3a0f7b793a0c401487a7bc97f71db2a5"
      }
     },
     "metadata": {},
     "output_type": "display_data"
    },
    {
     "name": "stdout",
     "output_type": "stream",
     "text": [
      "\n"
     ]
    }
   ],
   "source": [
    "leak_posters_vect = []\n",
    "\n",
    "for fold_i, _ in tqdm_notebook(list(enumerate(fold_idxs))):\n",
    "    fold_stat = train_stat[fold_i]\n",
    "    \n",
    "    train_mean, train_std = fold_stat['posters_train_mean'], fold_stat['posters_train_std']\n",
    "    \n",
    "    X_leak_posters = np.array([preprocess_poster(poster_i, train_mean, train_std)\n",
    "                               for poster_i in leak_posters])\n",
    "    \n",
    "    checkpoints_path = os.path.join(checkpoints_prefix, 'checkpoints', str(fold_i))\n",
    "    \n",
    "    model_path = os.path.join(checkpoints_path, 'checkpoints.hdf5')\n",
    "    model = load_model(model_path, compile=False)\n",
    "    model = pop_last_3_layers(model)\n",
    "    model.compile(optimizer=SGD(lr=0.0001, momentum=0.9), loss='binary_crossentropy')\n",
    "    \n",
    "    leak_posters_vect.append(model.predict(X_leak_posters))"
   ]
  },
  {
   "cell_type": "code",
   "execution_count": 6,
   "metadata": {
    "ExecuteTime": {
     "end_time": "2017-09-28T20:22:23.150980Z",
     "start_time": "2017-09-28T20:22:23.145336Z"
    },
    "collapsed": true
   },
   "outputs": [],
   "source": [
    "# with open('leak_posters_vect_2.p', 'wb') as f:\n",
    "#     pickle.dump(leak_posters_vect, f)"
   ]
  },
  {
   "cell_type": "code",
   "execution_count": 7,
   "metadata": {
    "ExecuteTime": {
     "end_time": "2017-09-28T20:22:24.911165Z",
     "start_time": "2017-09-28T20:22:24.903465Z"
    },
    "collapsed": true
   },
   "outputs": [],
   "source": [
    "with open('leak_posters_vect_2.p', 'rb') as f:\n",
    "    leak_posters_vect = pickle.load(f)"
   ]
  },
  {
   "cell_type": "markdown",
   "metadata": {},
   "source": [
    "## Учим CatBoost (5-fold CV)"
   ]
  },
  {
   "cell_type": "code",
   "execution_count": 66,
   "metadata": {
    "ExecuteTime": {
     "end_time": "2017-09-30T07:10:48.335253Z",
     "start_time": "2017-09-30T07:10:48.330712Z"
    },
    "collapsed": true
   },
   "outputs": [],
   "source": [
    "# params_space = {\n",
    "#     'l2_leaf_reg': [1, 3, 5, 7],\n",
    "#     'learning_rate': [0.01],\n",
    "#     'depth': [3, 6, 12],\n",
    "#     'random_strength': [0.5, 0.95, 1],\n",
    "#     'loss_function': ['CrossEntropy']\n",
    "# }\n",
    "\n",
    "params_space = {\n",
    "    'l2_leaf_reg': [7],\n",
    "    'learning_rate': [0.01],\n",
    "    'depth': [12],\n",
    "    'random_strength': [0.95],\n",
    "    'loss_function': ['CrossEntropy']\n",
    "}"
   ]
  },
  {
   "cell_type": "code",
   "execution_count": 67,
   "metadata": {
    "ExecuteTime": {
     "end_time": "2017-09-30T07:55:23.034414Z",
     "start_time": "2017-09-30T07:12:56.313043Z"
    },
    "scrolled": true
   },
   "outputs": [
    {
     "data": {
      "application/vnd.jupyter.widget-view+json": {
       "model_id": "40cc1b19eea648149f8f74a7b286c95d"
      }
     },
     "metadata": {},
     "output_type": "display_data"
    },
    {
     "name": "stdout",
     "output_type": "stream",
     "text": [
      "{'loss_function': 'CrossEntropy', 'mean_leak_score': 0.92909127706941919, 'learning_rate': 0.01, 'random_strength': 0.95, 'elapsed': 2546.631593942642, 'l2_leaf_reg': 7, 'mean_test_score': 0.91610687430432114, 'depth': 12}\n",
      "\n"
     ]
    }
   ],
   "source": [
    "# cat_features = [1, 2, 3]\n",
    "cat_features = list(range(1, X.shape[1]))\n",
    "cat_boost_train_stat = []\n",
    "\n",
    "for params in tqdm_notebook(ParameterGrid(params_space)):\n",
    "    params_stat = {\n",
    "        'leak_preds': [],\n",
    "        'test_preds': [],\n",
    "        'test_scores': [],\n",
    "        'leak_scores': [],\n",
    "        'models': []\n",
    "    }\n",
    "    start = time.time()\n",
    "\n",
    "    try:\n",
    "        for fold_i, (train_idxs, test_idxs) in list(enumerate(fold_idxs)):\n",
    "            fold_stat = train_stat[fold_i]\n",
    "\n",
    "            X_train, X_test = X[train_idxs], X[test_idxs]\n",
    "            y_train, y_test = y[train_idxs], y[test_idxs]\n",
    "\n",
    "            X_posters_train, X_posters_test = fold_stat['train_posters_vect_repr'], fold_stat['test_posters_vect_repr']\n",
    "\n",
    "            X_train = np.concatenate((X_train, X_posters_train), axis=1)\n",
    "            X_test = np.concatenate((X_test, X_posters_test), axis=1)\n",
    "\n",
    "            X_leak_posters = leak_posters_vect[fold_i]\n",
    "            X_leak_ = np.concatenate((X_leak, X_leak_posters), axis=1)\n",
    "            y_leak_ = y_leak\n",
    "\n",
    "\n",
    "            clf = CatBoostClassifier(\n",
    "                l2_leaf_reg=int(params['l2_leaf_reg']),\n",
    "                learning_rate=params['learning_rate'],\n",
    "                depth=params['depth'],\n",
    "                random_strength=params['random_strength'],\n",
    "                iterations=1000,\n",
    "                eval_metric='AUC',\n",
    "                use_best_model=True,\n",
    "                random_seed=42\n",
    "            )\n",
    "            clf = clf.fit(\n",
    "                X_train, y_train,\n",
    "                cat_features=cat_features,\n",
    "                eval_set=(X_test, y_test),\n",
    "                use_best_model=True,\n",
    "            )\n",
    "            \n",
    "            params_stat['models'].append(clf)\n",
    "\n",
    "            y_pred_proba = clf.predict_proba(X_test)[:,1]\n",
    "            y_leak_pred_proba = clf.predict_proba(X_leak_)[:,1]\n",
    "            \n",
    "            params_stat['test_preds'].append(y_pred_proba)\n",
    "            params_stat['leak_preds'].append(y_leak_pred_proba)\n",
    "\n",
    "            params_stat['test_scores'].append(roc_auc_score(y_test, y_pred_proba))\n",
    "            params_stat['leak_scores'].append(roc_auc_score(y_leak_, y_leak_pred_proba))\n",
    "\n",
    "        params['mean_test_score'] = np.mean(params_stat['test_scores'])\n",
    "        params['mean_leak_score'] = np.mean(params_stat['leak_scores'])\n",
    "\n",
    "        end = time.time()\n",
    "        \n",
    "        params['elapsed'] = end - start\n",
    "        \n",
    "        if params['mean_leak_score']:\n",
    "            print(params)\n",
    "        params.update(params_stat)\n",
    "\n",
    "        cat_boost_train_stat.append(params)\n",
    "    except Exception as e:\n",
    "        print(e)\n",
    "        print('-' * 20)\n",
    "        print('Error')\n",
    "        print(params)\n",
    "        print('-' * 20)"
   ]
  },
  {
   "cell_type": "code",
   "execution_count": 68,
   "metadata": {
    "ExecuteTime": {
     "end_time": "2017-09-30T07:55:23.036926Z",
     "start_time": "2017-09-30T07:55:23.035324Z"
    },
    "collapsed": true
   },
   "outputs": [],
   "source": [
    "# {'loss_function': 'CrossEntropy', 'mean_leak_score': 0.92909127706941919,\n",
    "#  'learning_rate': 0.01, 'random_strength': 0.95, 'elapsed': 2575.7580795288086,\n",
    "#  'l2_leaf_reg': 7, 'mean_test_score': 0.91610687430432114, 'depth': 12}"
   ]
  },
  {
   "cell_type": "code",
   "execution_count": 69,
   "metadata": {
    "ExecuteTime": {
     "end_time": "2017-09-30T07:55:23.713461Z",
     "start_time": "2017-09-30T07:55:23.037812Z"
    },
    "collapsed": true
   },
   "outputs": [],
   "source": [
    "with open('catboost_train_stat_4.p', 'wb') as f:\n",
    "    pickle.dump(cat_boost_train_stat, f)"
   ]
  },
  {
   "cell_type": "code",
   "execution_count": 47,
   "metadata": {
    "ExecuteTime": {
     "end_time": "2017-09-30T07:05:14.345463Z",
     "start_time": "2017-09-30T07:05:12.850313Z"
    },
    "collapsed": true
   },
   "outputs": [],
   "source": [
    "with open('catboost_train_stat_4.p', 'rb') as f:\n",
    "    cat_boost_train_stat = pickle.load(f)"
   ]
  },
  {
   "cell_type": "markdown",
   "metadata": {},
   "source": [
    "## Построение финальной посылки\n",
    "(по факту, лучшие комбинации гиперпараметров для тестовых данных и по кроссвалидации совпадают)"
   ]
  },
  {
   "cell_type": "code",
   "execution_count": 71,
   "metadata": {
    "ExecuteTime": {
     "end_time": "2017-09-30T08:16:49.342063Z",
     "start_time": "2017-09-30T08:16:49.340166Z"
    }
   },
   "outputs": [],
   "source": [
    "best_cat_boost = max(cat_boost_train_stat, key=lambda x: x['mean_leak_score'])"
   ]
  },
  {
   "cell_type": "code",
   "execution_count": 72,
   "metadata": {
    "ExecuteTime": {
     "end_time": "2017-09-30T08:17:12.291063Z",
     "start_time": "2017-09-30T08:17:12.288236Z"
    }
   },
   "outputs": [
    {
     "data": {
      "text/plain": [
       "[0.92786379275450315,\n",
       " 0.93203298927342648,\n",
       " 0.92950313701679821,\n",
       " 0.92746913580246915,\n",
       " 0.92858733049989883]"
      ]
     },
     "execution_count": 72,
     "metadata": {},
     "output_type": "execute_result"
    }
   ],
   "source": [
    "best_cat_boost['leak_scores']"
   ]
  },
  {
   "cell_type": "code",
   "execution_count": 80,
   "metadata": {
    "ExecuteTime": {
     "end_time": "2017-09-30T08:23:42.432837Z",
     "start_time": "2017-09-30T08:23:42.422630Z"
    }
   },
   "outputs": [
    {
     "data": {
      "text/plain": [
       "[0.89736128826530615,\n",
       " 0.9269393241167434,\n",
       " 0.91487455197132617,\n",
       " 0.91243439580133123,\n",
       " 0.92892481136689842]"
      ]
     },
     "execution_count": 80,
     "metadata": {},
     "output_type": "execute_result"
    }
   ],
   "source": [
    "best_cat_boost['test_scores']"
   ]
  },
  {
   "cell_type": "code",
   "execution_count": 89,
   "metadata": {
    "ExecuteTime": {
     "end_time": "2017-09-30T08:29:16.038747Z",
     "start_time": "2017-09-30T08:29:16.031285Z"
    }
   },
   "outputs": [
    {
     "data": {
      "text/plain": [
       "0.93234163124873515"
      ]
     },
     "execution_count": 89,
     "metadata": {},
     "output_type": "execute_result"
    }
   ],
   "source": [
    "mean_pred = np.vstack(best_cat_boost['leak_preds']).T.mean(axis=1)\n",
    "roc_auc_score(y_leak, mean_pred)"
   ]
  },
  {
   "cell_type": "code",
   "execution_count": 83,
   "metadata": {
    "ExecuteTime": {
     "end_time": "2017-09-30T08:27:35.037852Z",
     "start_time": "2017-09-30T08:27:35.016553Z"
    }
   },
   "outputs": [],
   "source": [
    "pd.DataFrame({'Id': test_ids, 'Probability': mean_pred}) \\\n",
    "    .to_csv('Комаровский_Дмитрий_Юрьевич_task_2_prediction.csv')"
   ]
  },
  {
   "cell_type": "markdown",
   "metadata": {},
   "source": [
    "### проверка"
   ]
  },
  {
   "cell_type": "code",
   "execution_count": 84,
   "metadata": {
    "ExecuteTime": {
     "end_time": "2017-09-30T08:27:49.512816Z",
     "start_time": "2017-09-30T08:27:49.353752Z"
    }
   },
   "outputs": [
    {
     "name": "stdout",
     "output_type": "stream",
     "text": [
      ",Id,Probability\r\n",
      "0,3636,0.6826362192380488\r\n",
      "1,3637,0.1089410532512501\r\n",
      "2,3638,0.9635501557636095\r\n",
      "3,3639,0.010309313590983575\r\n",
      "4,3640,0.03985107248082752\r\n",
      "5,3641,0.808477982368165\r\n",
      "6,3642,0.030830864208894648\r\n",
      "7,3643,0.7757828535866154\r\n",
      "8,3644,0.13606035518935988\r\n"
     ]
    }
   ],
   "source": [
    "!head -n 10 Комаровский_Дмитрий_Юрьевич_task_2_prediction.csv"
   ]
  },
  {
   "cell_type": "code",
   "execution_count": 85,
   "metadata": {
    "ExecuteTime": {
     "end_time": "2017-09-30T08:27:56.502374Z",
     "start_time": "2017-09-30T08:27:56.351739Z"
    }
   },
   "outputs": [
    {
     "name": "stdout",
     "output_type": "stream",
     "text": [
      "910 Комаровский_Дмитрий_Юрьевич_task_2_prediction.csv\r\n"
     ]
    }
   ],
   "source": [
    "!wc -l Комаровский_Дмитрий_Юрьевич_task_2_prediction.csv"
   ]
  }
 ],
 "metadata": {
  "kernelspec": {
   "display_name": "Python 3",
   "language": "python",
   "name": "python3"
  },
  "language_info": {
   "codemirror_mode": {
    "name": "ipython",
    "version": 3
   },
   "file_extension": ".py",
   "mimetype": "text/x-python",
   "name": "python",
   "nbconvert_exporter": "python",
   "pygments_lexer": "ipython3",
   "version": "3.5.2"
  }
 },
 "nbformat": 4,
 "nbformat_minor": 2
}
